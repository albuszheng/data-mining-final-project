{
 "cells": [
  {
   "cell_type": "code",
   "execution_count": 2,
   "metadata": {},
   "outputs": [],
   "source": [
    "import pandas as pd\n",
    "import numpy as np"
   ]
  },
  {
   "cell_type": "code",
   "execution_count": 3,
   "metadata": {},
   "outputs": [
    {
     "output_type": "execute_result",
     "data": {
      "text/plain": "   match_id  start_time  duration  tower_status_radiant  tower_status_dire  \\\n0         0  1446750112      2375                  1982                  4   \n1         1  1446753078      2582                     0               1846   \n2         2  1446764586      2716                   256               1972   \n3         3  1446765723      3085                     4               1924   \n4         4  1446796385      1887                  2047                  0   \n\n   barracks_status_dire  barracks_status_radiant  first_blood_time  game_mode  \\\n0                     3                       63                 1         22   \n1                    63                        0               221         22   \n2                    63                       48               190         22   \n3                    51                        3                40         22   \n4                     0                       63                58         22   \n\n   radiant_win  negative_votes  positive_votes  cluster  \n0         True               0               1      155  \n1        False               0               2      154  \n2        False               0               0      132  \n3        False               0               0      191  \n4         True               0               0      156  ",
      "text/html": "<div>\n<style scoped>\n    .dataframe tbody tr th:only-of-type {\n        vertical-align: middle;\n    }\n\n    .dataframe tbody tr th {\n        vertical-align: top;\n    }\n\n    .dataframe thead th {\n        text-align: right;\n    }\n</style>\n<table border=\"1\" class=\"dataframe\">\n  <thead>\n    <tr style=\"text-align: right;\">\n      <th></th>\n      <th>match_id</th>\n      <th>start_time</th>\n      <th>duration</th>\n      <th>tower_status_radiant</th>\n      <th>tower_status_dire</th>\n      <th>barracks_status_dire</th>\n      <th>barracks_status_radiant</th>\n      <th>first_blood_time</th>\n      <th>game_mode</th>\n      <th>radiant_win</th>\n      <th>negative_votes</th>\n      <th>positive_votes</th>\n      <th>cluster</th>\n    </tr>\n  </thead>\n  <tbody>\n    <tr>\n      <th>0</th>\n      <td>0</td>\n      <td>1446750112</td>\n      <td>2375</td>\n      <td>1982</td>\n      <td>4</td>\n      <td>3</td>\n      <td>63</td>\n      <td>1</td>\n      <td>22</td>\n      <td>True</td>\n      <td>0</td>\n      <td>1</td>\n      <td>155</td>\n    </tr>\n    <tr>\n      <th>1</th>\n      <td>1</td>\n      <td>1446753078</td>\n      <td>2582</td>\n      <td>0</td>\n      <td>1846</td>\n      <td>63</td>\n      <td>0</td>\n      <td>221</td>\n      <td>22</td>\n      <td>False</td>\n      <td>0</td>\n      <td>2</td>\n      <td>154</td>\n    </tr>\n    <tr>\n      <th>2</th>\n      <td>2</td>\n      <td>1446764586</td>\n      <td>2716</td>\n      <td>256</td>\n      <td>1972</td>\n      <td>63</td>\n      <td>48</td>\n      <td>190</td>\n      <td>22</td>\n      <td>False</td>\n      <td>0</td>\n      <td>0</td>\n      <td>132</td>\n    </tr>\n    <tr>\n      <th>3</th>\n      <td>3</td>\n      <td>1446765723</td>\n      <td>3085</td>\n      <td>4</td>\n      <td>1924</td>\n      <td>51</td>\n      <td>3</td>\n      <td>40</td>\n      <td>22</td>\n      <td>False</td>\n      <td>0</td>\n      <td>0</td>\n      <td>191</td>\n    </tr>\n    <tr>\n      <th>4</th>\n      <td>4</td>\n      <td>1446796385</td>\n      <td>1887</td>\n      <td>2047</td>\n      <td>0</td>\n      <td>0</td>\n      <td>63</td>\n      <td>58</td>\n      <td>22</td>\n      <td>True</td>\n      <td>0</td>\n      <td>0</td>\n      <td>156</td>\n    </tr>\n  </tbody>\n</table>\n</div>"
     },
     "metadata": {},
     "execution_count": 3
    }
   ],
   "source": [
    "match_file = pd.read_csv('data_raw/match.csv')\n",
    "match_file.head()"
   ]
  },
  {
   "cell_type": "code",
   "execution_count": 4,
   "metadata": {},
   "outputs": [],
   "source": [
    "# details of bit string is in :\n",
    "# https://wiki.teamfortress.com/wiki/WebAPI/GetMatchDetails#Player_Slot\n",
    "def tower_status(ts_radiant, ts_dire):\n",
    "    tsr = {}\n",
    "    tsd = {}\n",
    "    bit_tsr = '{0:016b}'.format(ts_radiant)\n",
    "    bit_tsd = '{0:016b}'.format(ts_dire)\n",
    "    tsr['top'] = bit_tsr.count('1', -3)\n",
    "    tsd['top'] = bit_tsd.count('1', -3)\n",
    "    tsr['mid'] = bit_tsr.count('1', 10, 13)\n",
    "    tsd['mid'] = bit_tsd.count('1', 10, 13)\n",
    "    tsd['bottom'] = bit_tsd.count('1', 7, 10)\n",
    "    tsr['bottom'] = bit_tsr.count('1', 7, 10)\n",
    "    tsd['ancient'] = bit_tsd.count('1', 5, 7)\n",
    "    tsr['ancient'] = bit_tsr.count('1', 5, 7)\n",
    "    return (tsr, tsd)\n",
    "\n",
    "def barracks_status(bs_radiant, bs_dire):\n",
    "    bsr = {}\n",
    "    bsd = {}\n",
    "    bit_bsr = '{0:08b}'.format(bs_radiant)\n",
    "    bit_bsd = '{0:08b}'.format(bs_dire)\n",
    "    bsr['top'] = bit_bsr.count('1', -2)\n",
    "    bsd['top'] = bit_bsd.count('1', -2)\n",
    "    bsr['mid'] = bit_bsr.count('1', 2, 4)\n",
    "    bsd['mid'] = bit_bsd.count('1', 2, 4)\n",
    "    bsd['bottom'] = bit_bsd.count('1', 4, 6)\n",
    "    bsr['bottom'] = bit_bsr.count('1', 4, 6)\n",
    "    return (bsr, bsd)"
   ]
  },
  {
   "cell_type": "code",
   "execution_count": 5,
   "metadata": {},
   "outputs": [],
   "source": [
    "df_players = pd.read_csv(\n",
    "    'data_raw/players.csv', \n",
    "    usecols=[\n",
    "        'match_id',\n",
    "        'player_slot',\n",
    "        'gold',\n",
    "        'gold_spent',\n",
    "        'kills',\n",
    "        'deaths',\n",
    "        'assists',\n",
    "        'denies',\n",
    "        'last_hits',\n",
    "        'hero_damage',\n",
    "        'tower_damage',\n",
    "        'level',\n",
    "        'gold_buyback'\n",
    "        ])\n",
    "# df_player_time = pd.read_csv('dota-2-matches/player_time.csv')\n",
    "# df_ability = pd.read_csv('dota-2-matches/ability_upgrades.csv')\n",
    "df_team_fights = pd.read_csv('data_raw/teamfights.csv')\n",
    "df_team_fights_players = pd.read_csv('data_raw/teamfights_players.csv')\n",
    ""
   ]
  },
  {
   "cell_type": "markdown",
   "metadata": {},
   "source": [
    "## Novel feature: negative chat"
   ],
   "execution_count": null,
   "outputs": []
  },
  {
   "cell_type": "markdown",
   "metadata": {},
   "source": [
    "We tried a custom known list of reliably negative words in chat as a novel feature. We count the number of occurrences of each word in the dictionary in chat per team per match."
   ],
   "execution_count": null,
   "outputs": []
  },
  {
   "cell_type": "code",
   "execution_count": 6,
   "metadata": {
    "tags": [
     "outputPrepend",
     "outputPrepend",
     "outputPrepend",
     "outputPrepend",
     "outputPrepend",
     "outputPrepend",
     "outputPrepend",
     "outputPrepend",
     "outputPrepend",
     "outputPrepend",
     "outputPrepend",
     "outputPrepend",
     "outputPrepend",
     "outputPrepend",
     "outputPrepend",
     "outputPrepend",
     "outputPrepend",
     "outputPrepend",
     "outputPrepend",
     "outputPrepend",
     "outputPrepend",
     "outputPrepend",
     "outputPrepend",
     "outputPrepend",
     "outputPrepend",
     "outputPrepend",
     "outputPrepend",
     "outputPrepend",
     "outputPrepend",
     "outputPrepend",
     "outputPrepend",
     "outputPrepend",
     "outputPrepend",
     "outputPrepend",
     "outputPrepend",
     "outputPrepend",
     "outputPrepend",
     "outputPrepend",
     "outputPrepend",
     "outputPrepend",
     "outputPrepend",
     "outputPrepend",
     "outputPrepend",
     "outputPrepend",
     "outputPrepend",
     "outputPrepend",
     "outputPrepend",
     "outputPrepend",
     "outputPrepend",
     "outputPrepend",
     "outputPrepend",
     "outputPrepend",
     "outputPrepend",
     "outputPrepend",
     "outputPrepend",
     "outputPrepend",
     "outputPrepend",
     "outputPrepend",
     "outputPrepend",
     "outputPrepend",
     "outputPrepend",
     "outputPrepend",
     "outputPrepend",
     "outputPrepend",
     "outputPrepend",
     "outputPrepend",
     "outputPrepend",
     "outputPrepend",
     "outputPrepend",
     "outputPrepend",
     "outputPrepend",
     "outputPrepend",
     "outputPrepend",
     "outputPrepend",
     "outputPrepend",
     "outputPrepend",
     "outputPrepend",
     "outputPrepend",
     "outputPrepend",
     "outputPrepend",
     "outputPrepend",
     "outputPrepend",
     "outputPrepend",
     "outputPrepend",
     "outputPrepend",
     "outputPrepend",
     "outputPrepend",
     "outputPrepend",
     "outputPrepend",
     "outputPrepend",
     "outputPrepend",
     "outputPrepend",
     "outputPrepend",
     "outputPrepend",
     "outputPrepend",
     "outputPrepend",
     "outputPrepend",
     "outputPrepend",
     "outputPrepend",
     "outputPrepend",
     "outputPrepend",
     "outputPrepend",
     "outputPrepend",
     "outputPrepend",
     "outputPrepend",
     "outputPrepend",
     "outputPrepend",
     "outputPrepend",
     "outputPrepend",
     "outputPrepend",
     "outputPrepend",
     "outputPrepend",
     "outputPrepend",
     "outputPrepend",
     "outputPrepend",
     "outputPrepend",
     "outputPrepend",
     "outputPrepend",
     "outputPrepend",
     "outputPrepend",
     "outputPrepend",
     "outputPrepend",
     "outputPrepend",
     "outputPrepend",
     "outputPrepend",
     "outputPrepend",
     "outputPrepend",
     "outputPrepend",
     "outputPrepend",
     "outputPrepend",
     "outputPrepend",
     "outputPrepend",
     "outputPrepend",
     "outputPrepend",
     "outputPrepend",
     "outputPrepend",
     "outputPrepend",
     "outputPrepend",
     "outputPrepend",
     "outputPrepend",
     "outputPrepend",
     "outputPrepend",
     "outputPrepend",
     "outputPrepend",
     "outputPrepend",
     "outputPrepend",
     "outputPrepend",
     "outputPrepend",
     "outputPrepend",
     "outputPrepend",
     "outputPrepend",
     "outputPrepend",
     "outputPrepend",
     "outputPrepend",
     "outputPrepend",
     "outputPrepend",
     "outputPrepend",
     "outputPrepend",
     "outputPrepend",
     "outputPrepend",
     "outputPrepend",
     "outputPrepend",
     "outputPrepend",
     "outputPrepend",
     "outputPrepend",
     "outputPrepend",
     "outputPrepend",
     "outputPrepend",
     "outputPrepend",
     "outputPrepend",
     "outputPrepend",
     "outputPrepend",
     "outputPrepend",
     "outputPrepend",
     "outputPrepend",
     "outputPrepend",
     "outputPrepend",
     "outputPrepend"
    ]
   },
   "outputs": [
    {
     "output_type": "execute_result",
     "data": {
      "text/plain": "   match_id            key  slot  time       unit  is_radiant  naughty_count\n0         0       force it     6    -8  6k Slayer       False              0\n1         0  space created     1     5     Monkey        True              0\n2         0            hah     1     6     Monkey        True              0\n3         0         ez 500     6     9  6k Slayer       False              1\n4         0       mvp ulti     4   934       Kira        True              0",
      "text/html": "<div>\n<style scoped>\n    .dataframe tbody tr th:only-of-type {\n        vertical-align: middle;\n    }\n\n    .dataframe tbody tr th {\n        vertical-align: top;\n    }\n\n    .dataframe thead th {\n        text-align: right;\n    }\n</style>\n<table border=\"1\" class=\"dataframe\">\n  <thead>\n    <tr style=\"text-align: right;\">\n      <th></th>\n      <th>match_id</th>\n      <th>key</th>\n      <th>slot</th>\n      <th>time</th>\n      <th>unit</th>\n      <th>is_radiant</th>\n      <th>naughty_count</th>\n    </tr>\n  </thead>\n  <tbody>\n    <tr>\n      <th>0</th>\n      <td>0</td>\n      <td>force it</td>\n      <td>6</td>\n      <td>-8</td>\n      <td>6k Slayer</td>\n      <td>False</td>\n      <td>0</td>\n    </tr>\n    <tr>\n      <th>1</th>\n      <td>0</td>\n      <td>space created</td>\n      <td>1</td>\n      <td>5</td>\n      <td>Monkey</td>\n      <td>True</td>\n      <td>0</td>\n    </tr>\n    <tr>\n      <th>2</th>\n      <td>0</td>\n      <td>hah</td>\n      <td>1</td>\n      <td>6</td>\n      <td>Monkey</td>\n      <td>True</td>\n      <td>0</td>\n    </tr>\n    <tr>\n      <th>3</th>\n      <td>0</td>\n      <td>ez 500</td>\n      <td>6</td>\n      <td>9</td>\n      <td>6k Slayer</td>\n      <td>False</td>\n      <td>1</td>\n    </tr>\n    <tr>\n      <th>4</th>\n      <td>0</td>\n      <td>mvp ulti</td>\n      <td>4</td>\n      <td>934</td>\n      <td>Kira</td>\n      <td>True</td>\n      <td>0</td>\n    </tr>\n  </tbody>\n</table>\n</div>"
     },
     "metadata": {},
     "execution_count": 6
    }
   ],
   "source": [
    "df_chat = pd.read_csv('data_raw/chat.csv')\n",
    "df_chat['key'].fillna('', inplace=True)\n",
    "\n",
    "naughty_words = [\n",
    "    'stfu',\n",
    "    'ez',\n",
    "    'fuck',\n",
    "    'wtf',\n",
    "    'blame',\n",
    "    'report',\n",
    "    'reported',\n",
    "    'shit',\n",
    "    'ass',\n",
    "    'asshole',\n",
    "    'idiot',\n",
    "    'stupid',\n",
    "    'support',\n",
    "    'blyat',\n",
    "    'noob',\n",
    "    'gg'\n",
    "]\n",
    "\n",
    "def get_naughty_count(phrase):\n",
    "    naughty_count = 0\n",
    "    tokens = phrase.split()\n",
    "    for token in tokens:\n",
    "        naughty_count = naughty_count + (1 if token in naughty_words else 0)\n",
    "    return naughty_count\n",
    "\n",
    "df_chat['is_radiant'] = df_chat['slot'] < 5\n",
    "df_chat['naughty_count'] = df_chat['key'].apply(get_naughty_count)\n",
    "df_chat.head()"
   ]
  },
  {
   "cell_type": "code",
   "execution_count": 48,
   "metadata": {},
   "outputs": [
    {
     "output_type": "execute_result",
     "data": {
      "text/plain": "count    1.439488e+06\nmean     1.467015e-01\nstd      3.670513e-01\nmin      0.000000e+00\n25%      0.000000e+00\n50%      0.000000e+00\n75%      0.000000e+00\nmax      7.000000e+00\nName: naughty_count, dtype: float64"
     },
     "metadata": {},
     "execution_count": 48
    }
   ],
   "source": [
    "df_chat['naughty_count'].describe()"
   ]
  },
  {
   "cell_type": "markdown",
   "metadata": {},
   "source": [
    "We can see that the median negative word count is 0, and the majority of games have 0 instances of negative words. Thus, later we convert it to a binary feature (present or not)."
   ],
   "execution_count": null,
   "outputs": []
  },
  {
   "cell_type": "code",
   "execution_count": 17,
   "metadata": {},
   "outputs": [
    {
     "output_type": "execute_result",
     "data": {
      "text/plain": "array([[<matplotlib.axes._subplots.AxesSubplot object at 0x000001380ED6C7C0>]],\n      dtype=object)"
     },
     "metadata": {},
     "execution_count": 17
    },
    {
     "output_type": "display_data",
     "data": {
      "text/plain": "<Figure size 432x288 with 1 Axes>",
      "image/svg+xml": "<?xml version=\"1.0\" encoding=\"utf-8\" standalone=\"no\"?>\r\n<!DOCTYPE svg PUBLIC \"-//W3C//DTD SVG 1.1//EN\"\r\n  \"http://www.w3.org/Graphics/SVG/1.1/DTD/svg11.dtd\">\r\n<!-- Created with matplotlib (https://matplotlib.org/) -->\r\n<svg height=\"263.63625pt\" version=\"1.1\" viewBox=\"0 0 372.103125 263.63625\" width=\"372.103125pt\" xmlns=\"http://www.w3.org/2000/svg\" xmlns:xlink=\"http://www.w3.org/1999/xlink\">\r\n <defs>\r\n  <style type=\"text/css\">\r\n*{stroke-linecap:butt;stroke-linejoin:round;}\r\n  </style>\r\n </defs>\r\n <g id=\"figure_1\">\r\n  <g id=\"patch_1\">\r\n   <path d=\"M 0 263.63625 \r\nL 372.103125 263.63625 \r\nL 372.103125 0 \r\nL 0 0 \r\nz\r\n\" style=\"fill:none;\"/>\r\n  </g>\r\n  <g id=\"axes_1\">\r\n   <g id=\"patch_2\">\r\n    <path d=\"M 30.103125 239.758125 \r\nL 364.903125 239.758125 \r\nL 364.903125 22.318125 \r\nL 30.103125 22.318125 \r\nz\r\n\" style=\"fill:#ffffff;\"/>\r\n   </g>\r\n   <g id=\"patch_3\">\r\n    <path clip-path=\"url(#p19803b4ad3)\" d=\"M 45.321307 239.758125 \r\nL 75.75767 239.758125 \r\nL 75.75767 32.672411 \r\nL 45.321307 32.672411 \r\nz\r\n\" style=\"fill:#1f77b4;\"/>\r\n   </g>\r\n   <g id=\"patch_4\">\r\n    <path clip-path=\"url(#p19803b4ad3)\" d=\"M 75.75767 239.758125 \r\nL 106.194034 239.758125 \r\nL 106.194034 206.469383 \r\nL 75.75767 206.469383 \r\nz\r\n\" style=\"fill:#1f77b4;\"/>\r\n   </g>\r\n   <g id=\"patch_5\">\r\n    <path clip-path=\"url(#p19803b4ad3)\" d=\"M 106.194034 239.758125 \r\nL 136.630398 239.758125 \r\nL 136.630398 238.766476 \r\nL 106.194034 238.766476 \r\nz\r\n\" style=\"fill:#1f77b4;\"/>\r\n   </g>\r\n   <g id=\"patch_6\">\r\n    <path clip-path=\"url(#p19803b4ad3)\" d=\"M 136.630398 239.758125 \r\nL 167.066761 239.758125 \r\nL 167.066761 239.758125 \r\nL 136.630398 239.758125 \r\nz\r\n\" style=\"fill:#1f77b4;\"/>\r\n   </g>\r\n   <g id=\"patch_7\">\r\n    <path clip-path=\"url(#p19803b4ad3)\" d=\"M 167.066761 239.758125 \r\nL 197.503125 239.758125 \r\nL 197.503125 239.71754 \r\nL 167.066761 239.71754 \r\nz\r\n\" style=\"fill:#1f77b4;\"/>\r\n   </g>\r\n   <g id=\"patch_8\">\r\n    <path clip-path=\"url(#p19803b4ad3)\" d=\"M 197.503125 239.758125 \r\nL 227.939489 239.758125 \r\nL 227.939489 239.754771 \r\nL 197.503125 239.754771 \r\nz\r\n\" style=\"fill:#1f77b4;\"/>\r\n   </g>\r\n   <g id=\"patch_9\">\r\n    <path clip-path=\"url(#p19803b4ad3)\" d=\"M 227.939489 239.758125 \r\nL 258.375852 239.758125 \r\nL 258.375852 239.758125 \r\nL 227.939489 239.758125 \r\nz\r\n\" style=\"fill:#1f77b4;\"/>\r\n   </g>\r\n   <g id=\"patch_10\">\r\n    <path clip-path=\"url(#p19803b4ad3)\" d=\"M 258.375852 239.758125 \r\nL 288.812216 239.758125 \r\nL 288.812216 239.756951 \r\nL 258.375852 239.756951 \r\nz\r\n\" style=\"fill:#1f77b4;\"/>\r\n   </g>\r\n   <g id=\"patch_11\">\r\n    <path clip-path=\"url(#p19803b4ad3)\" d=\"M 288.812216 239.758125 \r\nL 319.24858 239.758125 \r\nL 319.24858 239.758125 \r\nL 288.812216 239.758125 \r\nz\r\n\" style=\"fill:#1f77b4;\"/>\r\n   </g>\r\n   <g id=\"patch_12\">\r\n    <path clip-path=\"url(#p19803b4ad3)\" d=\"M 319.24858 239.758125 \r\nL 349.684943 239.758125 \r\nL 349.684943 239.75779 \r\nL 319.24858 239.75779 \r\nz\r\n\" style=\"fill:#1f77b4;\"/>\r\n   </g>\r\n   <g id=\"matplotlib.axis_1\">\r\n    <g id=\"xtick_1\">\r\n     <g id=\"line2d_1\">\r\n      <path clip-path=\"url(#p19803b4ad3)\" d=\"M 45.321307 239.758125 \r\nL 45.321307 22.318125 \r\n\" style=\"fill:none;stroke:#b0b0b0;stroke-linecap:square;stroke-width:0.8;\"/>\r\n     </g>\r\n     <g id=\"line2d_2\">\r\n      <defs>\r\n       <path d=\"M 0 0 \r\nL 0 3.5 \r\n\" id=\"m57e6aee2c9\" style=\"stroke:#000000;stroke-width:0.8;\"/>\r\n      </defs>\r\n      <g>\r\n       <use style=\"stroke:#000000;stroke-width:0.8;\" x=\"45.321307\" xlink:href=\"#m57e6aee2c9\" y=\"239.758125\"/>\r\n      </g>\r\n     </g>\r\n     <g id=\"text_1\">\r\n      <!-- 0 -->\r\n      <defs>\r\n       <path d=\"M 31.78125 66.40625 \r\nQ 24.171875 66.40625 20.328125 58.90625 \r\nQ 16.5 51.421875 16.5 36.375 \r\nQ 16.5 21.390625 20.328125 13.890625 \r\nQ 24.171875 6.390625 31.78125 6.390625 \r\nQ 39.453125 6.390625 43.28125 13.890625 \r\nQ 47.125 21.390625 47.125 36.375 \r\nQ 47.125 51.421875 43.28125 58.90625 \r\nQ 39.453125 66.40625 31.78125 66.40625 \r\nz\r\nM 31.78125 74.21875 \r\nQ 44.046875 74.21875 50.515625 64.515625 \r\nQ 56.984375 54.828125 56.984375 36.375 \r\nQ 56.984375 17.96875 50.515625 8.265625 \r\nQ 44.046875 -1.421875 31.78125 -1.421875 \r\nQ 19.53125 -1.421875 13.0625 8.265625 \r\nQ 6.59375 17.96875 6.59375 36.375 \r\nQ 6.59375 54.828125 13.0625 64.515625 \r\nQ 19.53125 74.21875 31.78125 74.21875 \r\nz\r\n\" id=\"DejaVuSans-48\"/>\r\n      </defs>\r\n      <g transform=\"translate(42.140057 254.356563)scale(0.1 -0.1)\">\r\n       <use xlink:href=\"#DejaVuSans-48\"/>\r\n      </g>\r\n     </g>\r\n    </g>\r\n    <g id=\"xtick_2\">\r\n     <g id=\"line2d_3\">\r\n      <path clip-path=\"url(#p19803b4ad3)\" d=\"M 88.801826 239.758125 \r\nL 88.801826 22.318125 \r\n\" style=\"fill:none;stroke:#b0b0b0;stroke-linecap:square;stroke-width:0.8;\"/>\r\n     </g>\r\n     <g id=\"line2d_4\">\r\n      <g>\r\n       <use style=\"stroke:#000000;stroke-width:0.8;\" x=\"88.801826\" xlink:href=\"#m57e6aee2c9\" y=\"239.758125\"/>\r\n      </g>\r\n     </g>\r\n     <g id=\"text_2\">\r\n      <!-- 1 -->\r\n      <defs>\r\n       <path d=\"M 12.40625 8.296875 \r\nL 28.515625 8.296875 \r\nL 28.515625 63.921875 \r\nL 10.984375 60.40625 \r\nL 10.984375 69.390625 \r\nL 28.421875 72.90625 \r\nL 38.28125 72.90625 \r\nL 38.28125 8.296875 \r\nL 54.390625 8.296875 \r\nL 54.390625 0 \r\nL 12.40625 0 \r\nz\r\n\" id=\"DejaVuSans-49\"/>\r\n      </defs>\r\n      <g transform=\"translate(85.620576 254.356563)scale(0.1 -0.1)\">\r\n       <use xlink:href=\"#DejaVuSans-49\"/>\r\n      </g>\r\n     </g>\r\n    </g>\r\n    <g id=\"xtick_3\">\r\n     <g id=\"line2d_5\">\r\n      <path clip-path=\"url(#p19803b4ad3)\" d=\"M 132.282346 239.758125 \r\nL 132.282346 22.318125 \r\n\" style=\"fill:none;stroke:#b0b0b0;stroke-linecap:square;stroke-width:0.8;\"/>\r\n     </g>\r\n     <g id=\"line2d_6\">\r\n      <g>\r\n       <use style=\"stroke:#000000;stroke-width:0.8;\" x=\"132.282346\" xlink:href=\"#m57e6aee2c9\" y=\"239.758125\"/>\r\n      </g>\r\n     </g>\r\n     <g id=\"text_3\">\r\n      <!-- 2 -->\r\n      <defs>\r\n       <path d=\"M 19.1875 8.296875 \r\nL 53.609375 8.296875 \r\nL 53.609375 0 \r\nL 7.328125 0 \r\nL 7.328125 8.296875 \r\nQ 12.9375 14.109375 22.625 23.890625 \r\nQ 32.328125 33.6875 34.8125 36.53125 \r\nQ 39.546875 41.84375 41.421875 45.53125 \r\nQ 43.3125 49.21875 43.3125 52.78125 \r\nQ 43.3125 58.59375 39.234375 62.25 \r\nQ 35.15625 65.921875 28.609375 65.921875 \r\nQ 23.96875 65.921875 18.8125 64.3125 \r\nQ 13.671875 62.703125 7.8125 59.421875 \r\nL 7.8125 69.390625 \r\nQ 13.765625 71.78125 18.9375 73 \r\nQ 24.125 74.21875 28.421875 74.21875 \r\nQ 39.75 74.21875 46.484375 68.546875 \r\nQ 53.21875 62.890625 53.21875 53.421875 \r\nQ 53.21875 48.921875 51.53125 44.890625 \r\nQ 49.859375 40.875 45.40625 35.40625 \r\nQ 44.1875 33.984375 37.640625 27.21875 \r\nQ 31.109375 20.453125 19.1875 8.296875 \r\nz\r\n\" id=\"DejaVuSans-50\"/>\r\n      </defs>\r\n      <g transform=\"translate(129.101096 254.356563)scale(0.1 -0.1)\">\r\n       <use xlink:href=\"#DejaVuSans-50\"/>\r\n      </g>\r\n     </g>\r\n    </g>\r\n    <g id=\"xtick_4\">\r\n     <g id=\"line2d_7\">\r\n      <path clip-path=\"url(#p19803b4ad3)\" d=\"M 175.762865 239.758125 \r\nL 175.762865 22.318125 \r\n\" style=\"fill:none;stroke:#b0b0b0;stroke-linecap:square;stroke-width:0.8;\"/>\r\n     </g>\r\n     <g id=\"line2d_8\">\r\n      <g>\r\n       <use style=\"stroke:#000000;stroke-width:0.8;\" x=\"175.762865\" xlink:href=\"#m57e6aee2c9\" y=\"239.758125\"/>\r\n      </g>\r\n     </g>\r\n     <g id=\"text_4\">\r\n      <!-- 3 -->\r\n      <defs>\r\n       <path d=\"M 40.578125 39.3125 \r\nQ 47.65625 37.796875 51.625 33 \r\nQ 55.609375 28.21875 55.609375 21.1875 \r\nQ 55.609375 10.40625 48.1875 4.484375 \r\nQ 40.765625 -1.421875 27.09375 -1.421875 \r\nQ 22.515625 -1.421875 17.65625 -0.515625 \r\nQ 12.796875 0.390625 7.625 2.203125 \r\nL 7.625 11.71875 \r\nQ 11.71875 9.328125 16.59375 8.109375 \r\nQ 21.484375 6.890625 26.8125 6.890625 \r\nQ 36.078125 6.890625 40.9375 10.546875 \r\nQ 45.796875 14.203125 45.796875 21.1875 \r\nQ 45.796875 27.640625 41.28125 31.265625 \r\nQ 36.765625 34.90625 28.71875 34.90625 \r\nL 20.21875 34.90625 \r\nL 20.21875 43.015625 \r\nL 29.109375 43.015625 \r\nQ 36.375 43.015625 40.234375 45.921875 \r\nQ 44.09375 48.828125 44.09375 54.296875 \r\nQ 44.09375 59.90625 40.109375 62.90625 \r\nQ 36.140625 65.921875 28.71875 65.921875 \r\nQ 24.65625 65.921875 20.015625 65.03125 \r\nQ 15.375 64.15625 9.8125 62.3125 \r\nL 9.8125 71.09375 \r\nQ 15.4375 72.65625 20.34375 73.4375 \r\nQ 25.25 74.21875 29.59375 74.21875 \r\nQ 40.828125 74.21875 47.359375 69.109375 \r\nQ 53.90625 64.015625 53.90625 55.328125 \r\nQ 53.90625 49.265625 50.4375 45.09375 \r\nQ 46.96875 40.921875 40.578125 39.3125 \r\nz\r\n\" id=\"DejaVuSans-51\"/>\r\n      </defs>\r\n      <g transform=\"translate(172.581615 254.356563)scale(0.1 -0.1)\">\r\n       <use xlink:href=\"#DejaVuSans-51\"/>\r\n      </g>\r\n     </g>\r\n    </g>\r\n    <g id=\"xtick_5\">\r\n     <g id=\"line2d_9\">\r\n      <path clip-path=\"url(#p19803b4ad3)\" d=\"M 219.243385 239.758125 \r\nL 219.243385 22.318125 \r\n\" style=\"fill:none;stroke:#b0b0b0;stroke-linecap:square;stroke-width:0.8;\"/>\r\n     </g>\r\n     <g id=\"line2d_10\">\r\n      <g>\r\n       <use style=\"stroke:#000000;stroke-width:0.8;\" x=\"219.243385\" xlink:href=\"#m57e6aee2c9\" y=\"239.758125\"/>\r\n      </g>\r\n     </g>\r\n     <g id=\"text_5\">\r\n      <!-- 4 -->\r\n      <defs>\r\n       <path d=\"M 37.796875 64.3125 \r\nL 12.890625 25.390625 \r\nL 37.796875 25.390625 \r\nz\r\nM 35.203125 72.90625 \r\nL 47.609375 72.90625 \r\nL 47.609375 25.390625 \r\nL 58.015625 25.390625 \r\nL 58.015625 17.1875 \r\nL 47.609375 17.1875 \r\nL 47.609375 0 \r\nL 37.796875 0 \r\nL 37.796875 17.1875 \r\nL 4.890625 17.1875 \r\nL 4.890625 26.703125 \r\nz\r\n\" id=\"DejaVuSans-52\"/>\r\n      </defs>\r\n      <g transform=\"translate(216.062135 254.356563)scale(0.1 -0.1)\">\r\n       <use xlink:href=\"#DejaVuSans-52\"/>\r\n      </g>\r\n     </g>\r\n    </g>\r\n    <g id=\"xtick_6\">\r\n     <g id=\"line2d_11\">\r\n      <path clip-path=\"url(#p19803b4ad3)\" d=\"M 262.723904 239.758125 \r\nL 262.723904 22.318125 \r\n\" style=\"fill:none;stroke:#b0b0b0;stroke-linecap:square;stroke-width:0.8;\"/>\r\n     </g>\r\n     <g id=\"line2d_12\">\r\n      <g>\r\n       <use style=\"stroke:#000000;stroke-width:0.8;\" x=\"262.723904\" xlink:href=\"#m57e6aee2c9\" y=\"239.758125\"/>\r\n      </g>\r\n     </g>\r\n     <g id=\"text_6\">\r\n      <!-- 5 -->\r\n      <defs>\r\n       <path d=\"M 10.796875 72.90625 \r\nL 49.515625 72.90625 \r\nL 49.515625 64.59375 \r\nL 19.828125 64.59375 \r\nL 19.828125 46.734375 \r\nQ 21.96875 47.46875 24.109375 47.828125 \r\nQ 26.265625 48.1875 28.421875 48.1875 \r\nQ 40.625 48.1875 47.75 41.5 \r\nQ 54.890625 34.8125 54.890625 23.390625 \r\nQ 54.890625 11.625 47.5625 5.09375 \r\nQ 40.234375 -1.421875 26.90625 -1.421875 \r\nQ 22.3125 -1.421875 17.546875 -0.640625 \r\nQ 12.796875 0.140625 7.71875 1.703125 \r\nL 7.71875 11.625 \r\nQ 12.109375 9.234375 16.796875 8.0625 \r\nQ 21.484375 6.890625 26.703125 6.890625 \r\nQ 35.15625 6.890625 40.078125 11.328125 \r\nQ 45.015625 15.765625 45.015625 23.390625 \r\nQ 45.015625 31 40.078125 35.4375 \r\nQ 35.15625 39.890625 26.703125 39.890625 \r\nQ 22.75 39.890625 18.8125 39.015625 \r\nQ 14.890625 38.140625 10.796875 36.28125 \r\nz\r\n\" id=\"DejaVuSans-53\"/>\r\n      </defs>\r\n      <g transform=\"translate(259.542654 254.356563)scale(0.1 -0.1)\">\r\n       <use xlink:href=\"#DejaVuSans-53\"/>\r\n      </g>\r\n     </g>\r\n    </g>\r\n    <g id=\"xtick_7\">\r\n     <g id=\"line2d_13\">\r\n      <path clip-path=\"url(#p19803b4ad3)\" d=\"M 306.204424 239.758125 \r\nL 306.204424 22.318125 \r\n\" style=\"fill:none;stroke:#b0b0b0;stroke-linecap:square;stroke-width:0.8;\"/>\r\n     </g>\r\n     <g id=\"line2d_14\">\r\n      <g>\r\n       <use style=\"stroke:#000000;stroke-width:0.8;\" x=\"306.204424\" xlink:href=\"#m57e6aee2c9\" y=\"239.758125\"/>\r\n      </g>\r\n     </g>\r\n     <g id=\"text_7\">\r\n      <!-- 6 -->\r\n      <defs>\r\n       <path d=\"M 33.015625 40.375 \r\nQ 26.375 40.375 22.484375 35.828125 \r\nQ 18.609375 31.296875 18.609375 23.390625 \r\nQ 18.609375 15.53125 22.484375 10.953125 \r\nQ 26.375 6.390625 33.015625 6.390625 \r\nQ 39.65625 6.390625 43.53125 10.953125 \r\nQ 47.40625 15.53125 47.40625 23.390625 \r\nQ 47.40625 31.296875 43.53125 35.828125 \r\nQ 39.65625 40.375 33.015625 40.375 \r\nz\r\nM 52.59375 71.296875 \r\nL 52.59375 62.3125 \r\nQ 48.875 64.0625 45.09375 64.984375 \r\nQ 41.3125 65.921875 37.59375 65.921875 \r\nQ 27.828125 65.921875 22.671875 59.328125 \r\nQ 17.53125 52.734375 16.796875 39.40625 \r\nQ 19.671875 43.65625 24.015625 45.921875 \r\nQ 28.375 48.1875 33.59375 48.1875 \r\nQ 44.578125 48.1875 50.953125 41.515625 \r\nQ 57.328125 34.859375 57.328125 23.390625 \r\nQ 57.328125 12.15625 50.6875 5.359375 \r\nQ 44.046875 -1.421875 33.015625 -1.421875 \r\nQ 20.359375 -1.421875 13.671875 8.265625 \r\nQ 6.984375 17.96875 6.984375 36.375 \r\nQ 6.984375 53.65625 15.1875 63.9375 \r\nQ 23.390625 74.21875 37.203125 74.21875 \r\nQ 40.921875 74.21875 44.703125 73.484375 \r\nQ 48.484375 72.75 52.59375 71.296875 \r\nz\r\n\" id=\"DejaVuSans-54\"/>\r\n      </defs>\r\n      <g transform=\"translate(303.023174 254.356563)scale(0.1 -0.1)\">\r\n       <use xlink:href=\"#DejaVuSans-54\"/>\r\n      </g>\r\n     </g>\r\n    </g>\r\n    <g id=\"xtick_8\">\r\n     <g id=\"line2d_15\">\r\n      <path clip-path=\"url(#p19803b4ad3)\" d=\"M 349.684943 239.758125 \r\nL 349.684943 22.318125 \r\n\" style=\"fill:none;stroke:#b0b0b0;stroke-linecap:square;stroke-width:0.8;\"/>\r\n     </g>\r\n     <g id=\"line2d_16\">\r\n      <g>\r\n       <use style=\"stroke:#000000;stroke-width:0.8;\" x=\"349.684943\" xlink:href=\"#m57e6aee2c9\" y=\"239.758125\"/>\r\n      </g>\r\n     </g>\r\n     <g id=\"text_8\">\r\n      <!-- 7 -->\r\n      <defs>\r\n       <path d=\"M 8.203125 72.90625 \r\nL 55.078125 72.90625 \r\nL 55.078125 68.703125 \r\nL 28.609375 0 \r\nL 18.3125 0 \r\nL 43.21875 64.59375 \r\nL 8.203125 64.59375 \r\nz\r\n\" id=\"DejaVuSans-55\"/>\r\n      </defs>\r\n      <g transform=\"translate(346.503693 254.356563)scale(0.1 -0.1)\">\r\n       <use xlink:href=\"#DejaVuSans-55\"/>\r\n      </g>\r\n     </g>\r\n    </g>\r\n   </g>\r\n   <g id=\"matplotlib.axis_2\">\r\n    <g id=\"ytick_1\">\r\n     <g id=\"line2d_17\">\r\n      <path clip-path=\"url(#p19803b4ad3)\" d=\"M 30.103125 239.758125 \r\nL 364.903125 239.758125 \r\n\" style=\"fill:none;stroke:#b0b0b0;stroke-linecap:square;stroke-width:0.8;\"/>\r\n     </g>\r\n     <g id=\"line2d_18\">\r\n      <defs>\r\n       <path d=\"M 0 0 \r\nL -3.5 0 \r\n\" id=\"mb76df446d7\" style=\"stroke:#000000;stroke-width:0.8;\"/>\r\n      </defs>\r\n      <g>\r\n       <use style=\"stroke:#000000;stroke-width:0.8;\" x=\"30.103125\" xlink:href=\"#mb76df446d7\" y=\"239.758125\"/>\r\n      </g>\r\n     </g>\r\n     <g id=\"text_9\">\r\n      <!-- 0.0 -->\r\n      <defs>\r\n       <path d=\"M 10.6875 12.40625 \r\nL 21 12.40625 \r\nL 21 0 \r\nL 10.6875 0 \r\nz\r\n\" id=\"DejaVuSans-46\"/>\r\n      </defs>\r\n      <g transform=\"translate(7.2 243.557344)scale(0.1 -0.1)\">\r\n       <use xlink:href=\"#DejaVuSans-48\"/>\r\n       <use x=\"63.623047\" xlink:href=\"#DejaVuSans-46\"/>\r\n       <use x=\"95.410156\" xlink:href=\"#DejaVuSans-48\"/>\r\n      </g>\r\n     </g>\r\n    </g>\r\n    <g id=\"ytick_2\">\r\n     <g id=\"line2d_19\">\r\n      <path clip-path=\"url(#p19803b4ad3)\" d=\"M 30.103125 206.216817 \r\nL 364.903125 206.216817 \r\n\" style=\"fill:none;stroke:#b0b0b0;stroke-linecap:square;stroke-width:0.8;\"/>\r\n     </g>\r\n     <g id=\"line2d_20\">\r\n      <g>\r\n       <use style=\"stroke:#000000;stroke-width:0.8;\" x=\"30.103125\" xlink:href=\"#mb76df446d7\" y=\"206.216817\"/>\r\n      </g>\r\n     </g>\r\n     <g id=\"text_10\">\r\n      <!-- 0.2 -->\r\n      <g transform=\"translate(7.2 210.016035)scale(0.1 -0.1)\">\r\n       <use xlink:href=\"#DejaVuSans-48\"/>\r\n       <use x=\"63.623047\" xlink:href=\"#DejaVuSans-46\"/>\r\n       <use x=\"95.410156\" xlink:href=\"#DejaVuSans-50\"/>\r\n      </g>\r\n     </g>\r\n    </g>\r\n    <g id=\"ytick_3\">\r\n     <g id=\"line2d_21\">\r\n      <path clip-path=\"url(#p19803b4ad3)\" d=\"M 30.103125 172.675508 \r\nL 364.903125 172.675508 \r\n\" style=\"fill:none;stroke:#b0b0b0;stroke-linecap:square;stroke-width:0.8;\"/>\r\n     </g>\r\n     <g id=\"line2d_22\">\r\n      <g>\r\n       <use style=\"stroke:#000000;stroke-width:0.8;\" x=\"30.103125\" xlink:href=\"#mb76df446d7\" y=\"172.675508\"/>\r\n      </g>\r\n     </g>\r\n     <g id=\"text_11\">\r\n      <!-- 0.4 -->\r\n      <g transform=\"translate(7.2 176.474727)scale(0.1 -0.1)\">\r\n       <use xlink:href=\"#DejaVuSans-48\"/>\r\n       <use x=\"63.623047\" xlink:href=\"#DejaVuSans-46\"/>\r\n       <use x=\"95.410156\" xlink:href=\"#DejaVuSans-52\"/>\r\n      </g>\r\n     </g>\r\n    </g>\r\n    <g id=\"ytick_4\">\r\n     <g id=\"line2d_23\">\r\n      <path clip-path=\"url(#p19803b4ad3)\" d=\"M 30.103125 139.1342 \r\nL 364.903125 139.1342 \r\n\" style=\"fill:none;stroke:#b0b0b0;stroke-linecap:square;stroke-width:0.8;\"/>\r\n     </g>\r\n     <g id=\"line2d_24\">\r\n      <g>\r\n       <use style=\"stroke:#000000;stroke-width:0.8;\" x=\"30.103125\" xlink:href=\"#mb76df446d7\" y=\"139.1342\"/>\r\n      </g>\r\n     </g>\r\n     <g id=\"text_12\">\r\n      <!-- 0.6 -->\r\n      <g transform=\"translate(7.2 142.933419)scale(0.1 -0.1)\">\r\n       <use xlink:href=\"#DejaVuSans-48\"/>\r\n       <use x=\"63.623047\" xlink:href=\"#DejaVuSans-46\"/>\r\n       <use x=\"95.410156\" xlink:href=\"#DejaVuSans-54\"/>\r\n      </g>\r\n     </g>\r\n    </g>\r\n    <g id=\"ytick_5\">\r\n     <g id=\"line2d_25\">\r\n      <path clip-path=\"url(#p19803b4ad3)\" d=\"M 30.103125 105.592892 \r\nL 364.903125 105.592892 \r\n\" style=\"fill:none;stroke:#b0b0b0;stroke-linecap:square;stroke-width:0.8;\"/>\r\n     </g>\r\n     <g id=\"line2d_26\">\r\n      <g>\r\n       <use style=\"stroke:#000000;stroke-width:0.8;\" x=\"30.103125\" xlink:href=\"#mb76df446d7\" y=\"105.592892\"/>\r\n      </g>\r\n     </g>\r\n     <g id=\"text_13\">\r\n      <!-- 0.8 -->\r\n      <defs>\r\n       <path d=\"M 31.78125 34.625 \r\nQ 24.75 34.625 20.71875 30.859375 \r\nQ 16.703125 27.09375 16.703125 20.515625 \r\nQ 16.703125 13.921875 20.71875 10.15625 \r\nQ 24.75 6.390625 31.78125 6.390625 \r\nQ 38.8125 6.390625 42.859375 10.171875 \r\nQ 46.921875 13.96875 46.921875 20.515625 \r\nQ 46.921875 27.09375 42.890625 30.859375 \r\nQ 38.875 34.625 31.78125 34.625 \r\nz\r\nM 21.921875 38.8125 \r\nQ 15.578125 40.375 12.03125 44.71875 \r\nQ 8.5 49.078125 8.5 55.328125 \r\nQ 8.5 64.0625 14.71875 69.140625 \r\nQ 20.953125 74.21875 31.78125 74.21875 \r\nQ 42.671875 74.21875 48.875 69.140625 \r\nQ 55.078125 64.0625 55.078125 55.328125 \r\nQ 55.078125 49.078125 51.53125 44.71875 \r\nQ 48 40.375 41.703125 38.8125 \r\nQ 48.828125 37.15625 52.796875 32.3125 \r\nQ 56.78125 27.484375 56.78125 20.515625 \r\nQ 56.78125 9.90625 50.3125 4.234375 \r\nQ 43.84375 -1.421875 31.78125 -1.421875 \r\nQ 19.734375 -1.421875 13.25 4.234375 \r\nQ 6.78125 9.90625 6.78125 20.515625 \r\nQ 6.78125 27.484375 10.78125 32.3125 \r\nQ 14.796875 37.15625 21.921875 38.8125 \r\nz\r\nM 18.3125 54.390625 \r\nQ 18.3125 48.734375 21.84375 45.5625 \r\nQ 25.390625 42.390625 31.78125 42.390625 \r\nQ 38.140625 42.390625 41.71875 45.5625 \r\nQ 45.3125 48.734375 45.3125 54.390625 \r\nQ 45.3125 60.0625 41.71875 63.234375 \r\nQ 38.140625 66.40625 31.78125 66.40625 \r\nQ 25.390625 66.40625 21.84375 63.234375 \r\nQ 18.3125 60.0625 18.3125 54.390625 \r\nz\r\n\" id=\"DejaVuSans-56\"/>\r\n      </defs>\r\n      <g transform=\"translate(7.2 109.392111)scale(0.1 -0.1)\">\r\n       <use xlink:href=\"#DejaVuSans-48\"/>\r\n       <use x=\"63.623047\" xlink:href=\"#DejaVuSans-46\"/>\r\n       <use x=\"95.410156\" xlink:href=\"#DejaVuSans-56\"/>\r\n      </g>\r\n     </g>\r\n    </g>\r\n    <g id=\"ytick_6\">\r\n     <g id=\"line2d_27\">\r\n      <path clip-path=\"url(#p19803b4ad3)\" d=\"M 30.103125 72.051584 \r\nL 364.903125 72.051584 \r\n\" style=\"fill:none;stroke:#b0b0b0;stroke-linecap:square;stroke-width:0.8;\"/>\r\n     </g>\r\n     <g id=\"line2d_28\">\r\n      <g>\r\n       <use style=\"stroke:#000000;stroke-width:0.8;\" x=\"30.103125\" xlink:href=\"#mb76df446d7\" y=\"72.051584\"/>\r\n      </g>\r\n     </g>\r\n     <g id=\"text_14\">\r\n      <!-- 1.0 -->\r\n      <g transform=\"translate(7.2 75.850802)scale(0.1 -0.1)\">\r\n       <use xlink:href=\"#DejaVuSans-49\"/>\r\n       <use x=\"63.623047\" xlink:href=\"#DejaVuSans-46\"/>\r\n       <use x=\"95.410156\" xlink:href=\"#DejaVuSans-48\"/>\r\n      </g>\r\n     </g>\r\n    </g>\r\n    <g id=\"ytick_7\">\r\n     <g id=\"line2d_29\">\r\n      <path clip-path=\"url(#p19803b4ad3)\" d=\"M 30.103125 38.510275 \r\nL 364.903125 38.510275 \r\n\" style=\"fill:none;stroke:#b0b0b0;stroke-linecap:square;stroke-width:0.8;\"/>\r\n     </g>\r\n     <g id=\"line2d_30\">\r\n      <g>\r\n       <use style=\"stroke:#000000;stroke-width:0.8;\" x=\"30.103125\" xlink:href=\"#mb76df446d7\" y=\"38.510275\"/>\r\n      </g>\r\n     </g>\r\n     <g id=\"text_15\">\r\n      <!-- 1.2 -->\r\n      <g transform=\"translate(7.2 42.309494)scale(0.1 -0.1)\">\r\n       <use xlink:href=\"#DejaVuSans-49\"/>\r\n       <use x=\"63.623047\" xlink:href=\"#DejaVuSans-46\"/>\r\n       <use x=\"95.410156\" xlink:href=\"#DejaVuSans-50\"/>\r\n      </g>\r\n     </g>\r\n    </g>\r\n    <g id=\"text_16\">\r\n     <!-- 1e6 -->\r\n     <defs>\r\n      <path d=\"M 56.203125 29.59375 \r\nL 56.203125 25.203125 \r\nL 14.890625 25.203125 \r\nQ 15.484375 15.921875 20.484375 11.0625 \r\nQ 25.484375 6.203125 34.421875 6.203125 \r\nQ 39.59375 6.203125 44.453125 7.46875 \r\nQ 49.3125 8.734375 54.109375 11.28125 \r\nL 54.109375 2.78125 \r\nQ 49.265625 0.734375 44.1875 -0.34375 \r\nQ 39.109375 -1.421875 33.890625 -1.421875 \r\nQ 20.796875 -1.421875 13.15625 6.1875 \r\nQ 5.515625 13.8125 5.515625 26.8125 \r\nQ 5.515625 40.234375 12.765625 48.109375 \r\nQ 20.015625 56 32.328125 56 \r\nQ 43.359375 56 49.78125 48.890625 \r\nQ 56.203125 41.796875 56.203125 29.59375 \r\nz\r\nM 47.21875 32.234375 \r\nQ 47.125 39.59375 43.09375 43.984375 \r\nQ 39.0625 48.390625 32.421875 48.390625 \r\nQ 24.90625 48.390625 20.390625 44.140625 \r\nQ 15.875 39.890625 15.1875 32.171875 \r\nz\r\n\" id=\"DejaVuSans-101\"/>\r\n     </defs>\r\n     <g transform=\"translate(30.103125 19.318125)scale(0.1 -0.1)\">\r\n      <use xlink:href=\"#DejaVuSans-49\"/>\r\n      <use x=\"63.623047\" xlink:href=\"#DejaVuSans-101\"/>\r\n      <use x=\"125.146484\" xlink:href=\"#DejaVuSans-54\"/>\r\n     </g>\r\n    </g>\r\n   </g>\r\n   <g id=\"patch_13\">\r\n    <path d=\"M 30.103125 239.758125 \r\nL 30.103125 22.318125 \r\n\" style=\"fill:none;stroke:#000000;stroke-linecap:square;stroke-linejoin:miter;stroke-width:0.8;\"/>\r\n   </g>\r\n   <g id=\"patch_14\">\r\n    <path d=\"M 364.903125 239.758125 \r\nL 364.903125 22.318125 \r\n\" style=\"fill:none;stroke:#000000;stroke-linecap:square;stroke-linejoin:miter;stroke-width:0.8;\"/>\r\n   </g>\r\n   <g id=\"patch_15\">\r\n    <path d=\"M 30.103125 239.758125 \r\nL 364.903125 239.758125 \r\n\" style=\"fill:none;stroke:#000000;stroke-linecap:square;stroke-linejoin:miter;stroke-width:0.8;\"/>\r\n   </g>\r\n   <g id=\"patch_16\">\r\n    <path d=\"M 30.103125 22.318125 \r\nL 364.903125 22.318125 \r\n\" style=\"fill:none;stroke:#000000;stroke-linecap:square;stroke-linejoin:miter;stroke-width:0.8;\"/>\r\n   </g>\r\n   <g id=\"text_17\">\r\n    <!-- naughty_count -->\r\n    <defs>\r\n     <path d=\"M 54.890625 33.015625 \r\nL 54.890625 0 \r\nL 45.90625 0 \r\nL 45.90625 32.71875 \r\nQ 45.90625 40.484375 42.875 44.328125 \r\nQ 39.84375 48.1875 33.796875 48.1875 \r\nQ 26.515625 48.1875 22.3125 43.546875 \r\nQ 18.109375 38.921875 18.109375 30.90625 \r\nL 18.109375 0 \r\nL 9.078125 0 \r\nL 9.078125 54.6875 \r\nL 18.109375 54.6875 \r\nL 18.109375 46.1875 \r\nQ 21.34375 51.125 25.703125 53.5625 \r\nQ 30.078125 56 35.796875 56 \r\nQ 45.21875 56 50.046875 50.171875 \r\nQ 54.890625 44.34375 54.890625 33.015625 \r\nz\r\n\" id=\"DejaVuSans-110\"/>\r\n     <path d=\"M 34.28125 27.484375 \r\nQ 23.390625 27.484375 19.1875 25 \r\nQ 14.984375 22.515625 14.984375 16.5 \r\nQ 14.984375 11.71875 18.140625 8.90625 \r\nQ 21.296875 6.109375 26.703125 6.109375 \r\nQ 34.1875 6.109375 38.703125 11.40625 \r\nQ 43.21875 16.703125 43.21875 25.484375 \r\nL 43.21875 27.484375 \r\nz\r\nM 52.203125 31.203125 \r\nL 52.203125 0 \r\nL 43.21875 0 \r\nL 43.21875 8.296875 \r\nQ 40.140625 3.328125 35.546875 0.953125 \r\nQ 30.953125 -1.421875 24.3125 -1.421875 \r\nQ 15.921875 -1.421875 10.953125 3.296875 \r\nQ 6 8.015625 6 15.921875 \r\nQ 6 25.140625 12.171875 29.828125 \r\nQ 18.359375 34.515625 30.609375 34.515625 \r\nL 43.21875 34.515625 \r\nL 43.21875 35.40625 \r\nQ 43.21875 41.609375 39.140625 45 \r\nQ 35.0625 48.390625 27.6875 48.390625 \r\nQ 23 48.390625 18.546875 47.265625 \r\nQ 14.109375 46.140625 10.015625 43.890625 \r\nL 10.015625 52.203125 \r\nQ 14.9375 54.109375 19.578125 55.046875 \r\nQ 24.21875 56 28.609375 56 \r\nQ 40.484375 56 46.34375 49.84375 \r\nQ 52.203125 43.703125 52.203125 31.203125 \r\nz\r\n\" id=\"DejaVuSans-97\"/>\r\n     <path d=\"M 8.5 21.578125 \r\nL 8.5 54.6875 \r\nL 17.484375 54.6875 \r\nL 17.484375 21.921875 \r\nQ 17.484375 14.15625 20.5 10.265625 \r\nQ 23.53125 6.390625 29.59375 6.390625 \r\nQ 36.859375 6.390625 41.078125 11.03125 \r\nQ 45.3125 15.671875 45.3125 23.6875 \r\nL 45.3125 54.6875 \r\nL 54.296875 54.6875 \r\nL 54.296875 0 \r\nL 45.3125 0 \r\nL 45.3125 8.40625 \r\nQ 42.046875 3.421875 37.71875 1 \r\nQ 33.40625 -1.421875 27.6875 -1.421875 \r\nQ 18.265625 -1.421875 13.375 4.4375 \r\nQ 8.5 10.296875 8.5 21.578125 \r\nz\r\nM 31.109375 56 \r\nz\r\n\" id=\"DejaVuSans-117\"/>\r\n     <path d=\"M 45.40625 27.984375 \r\nQ 45.40625 37.75 41.375 43.109375 \r\nQ 37.359375 48.484375 30.078125 48.484375 \r\nQ 22.859375 48.484375 18.828125 43.109375 \r\nQ 14.796875 37.75 14.796875 27.984375 \r\nQ 14.796875 18.265625 18.828125 12.890625 \r\nQ 22.859375 7.515625 30.078125 7.515625 \r\nQ 37.359375 7.515625 41.375 12.890625 \r\nQ 45.40625 18.265625 45.40625 27.984375 \r\nz\r\nM 54.390625 6.78125 \r\nQ 54.390625 -7.171875 48.1875 -13.984375 \r\nQ 42 -20.796875 29.203125 -20.796875 \r\nQ 24.46875 -20.796875 20.265625 -20.09375 \r\nQ 16.0625 -19.390625 12.109375 -17.921875 \r\nL 12.109375 -9.1875 \r\nQ 16.0625 -11.328125 19.921875 -12.34375 \r\nQ 23.78125 -13.375 27.78125 -13.375 \r\nQ 36.625 -13.375 41.015625 -8.765625 \r\nQ 45.40625 -4.15625 45.40625 5.171875 \r\nL 45.40625 9.625 \r\nQ 42.625 4.78125 38.28125 2.390625 \r\nQ 33.9375 0 27.875 0 \r\nQ 17.828125 0 11.671875 7.65625 \r\nQ 5.515625 15.328125 5.515625 27.984375 \r\nQ 5.515625 40.671875 11.671875 48.328125 \r\nQ 17.828125 56 27.875 56 \r\nQ 33.9375 56 38.28125 53.609375 \r\nQ 42.625 51.21875 45.40625 46.390625 \r\nL 45.40625 54.6875 \r\nL 54.390625 54.6875 \r\nz\r\n\" id=\"DejaVuSans-103\"/>\r\n     <path d=\"M 54.890625 33.015625 \r\nL 54.890625 0 \r\nL 45.90625 0 \r\nL 45.90625 32.71875 \r\nQ 45.90625 40.484375 42.875 44.328125 \r\nQ 39.84375 48.1875 33.796875 48.1875 \r\nQ 26.515625 48.1875 22.3125 43.546875 \r\nQ 18.109375 38.921875 18.109375 30.90625 \r\nL 18.109375 0 \r\nL 9.078125 0 \r\nL 9.078125 75.984375 \r\nL 18.109375 75.984375 \r\nL 18.109375 46.1875 \r\nQ 21.34375 51.125 25.703125 53.5625 \r\nQ 30.078125 56 35.796875 56 \r\nQ 45.21875 56 50.046875 50.171875 \r\nQ 54.890625 44.34375 54.890625 33.015625 \r\nz\r\n\" id=\"DejaVuSans-104\"/>\r\n     <path d=\"M 18.3125 70.21875 \r\nL 18.3125 54.6875 \r\nL 36.8125 54.6875 \r\nL 36.8125 47.703125 \r\nL 18.3125 47.703125 \r\nL 18.3125 18.015625 \r\nQ 18.3125 11.328125 20.140625 9.421875 \r\nQ 21.96875 7.515625 27.59375 7.515625 \r\nL 36.8125 7.515625 \r\nL 36.8125 0 \r\nL 27.59375 0 \r\nQ 17.1875 0 13.234375 3.875 \r\nQ 9.28125 7.765625 9.28125 18.015625 \r\nL 9.28125 47.703125 \r\nL 2.6875 47.703125 \r\nL 2.6875 54.6875 \r\nL 9.28125 54.6875 \r\nL 9.28125 70.21875 \r\nz\r\n\" id=\"DejaVuSans-116\"/>\r\n     <path d=\"M 32.171875 -5.078125 \r\nQ 28.375 -14.84375 24.75 -17.8125 \r\nQ 21.140625 -20.796875 15.09375 -20.796875 \r\nL 7.90625 -20.796875 \r\nL 7.90625 -13.28125 \r\nL 13.1875 -13.28125 \r\nQ 16.890625 -13.28125 18.9375 -11.515625 \r\nQ 21 -9.765625 23.484375 -3.21875 \r\nL 25.09375 0.875 \r\nL 2.984375 54.6875 \r\nL 12.5 54.6875 \r\nL 29.59375 11.921875 \r\nL 46.6875 54.6875 \r\nL 56.203125 54.6875 \r\nz\r\n\" id=\"DejaVuSans-121\"/>\r\n     <path d=\"M 50.984375 -16.609375 \r\nL 50.984375 -23.578125 \r\nL -0.984375 -23.578125 \r\nL -0.984375 -16.609375 \r\nz\r\n\" id=\"DejaVuSans-95\"/>\r\n     <path d=\"M 48.78125 52.59375 \r\nL 48.78125 44.1875 \r\nQ 44.96875 46.296875 41.140625 47.34375 \r\nQ 37.3125 48.390625 33.40625 48.390625 \r\nQ 24.65625 48.390625 19.8125 42.84375 \r\nQ 14.984375 37.3125 14.984375 27.296875 \r\nQ 14.984375 17.28125 19.8125 11.734375 \r\nQ 24.65625 6.203125 33.40625 6.203125 \r\nQ 37.3125 6.203125 41.140625 7.25 \r\nQ 44.96875 8.296875 48.78125 10.40625 \r\nL 48.78125 2.09375 \r\nQ 45.015625 0.34375 40.984375 -0.53125 \r\nQ 36.96875 -1.421875 32.421875 -1.421875 \r\nQ 20.0625 -1.421875 12.78125 6.34375 \r\nQ 5.515625 14.109375 5.515625 27.296875 \r\nQ 5.515625 40.671875 12.859375 48.328125 \r\nQ 20.21875 56 33.015625 56 \r\nQ 37.15625 56 41.109375 55.140625 \r\nQ 45.0625 54.296875 48.78125 52.59375 \r\nz\r\n\" id=\"DejaVuSans-99\"/>\r\n     <path d=\"M 30.609375 48.390625 \r\nQ 23.390625 48.390625 19.1875 42.75 \r\nQ 14.984375 37.109375 14.984375 27.296875 \r\nQ 14.984375 17.484375 19.15625 11.84375 \r\nQ 23.34375 6.203125 30.609375 6.203125 \r\nQ 37.796875 6.203125 41.984375 11.859375 \r\nQ 46.1875 17.53125 46.1875 27.296875 \r\nQ 46.1875 37.015625 41.984375 42.703125 \r\nQ 37.796875 48.390625 30.609375 48.390625 \r\nz\r\nM 30.609375 56 \r\nQ 42.328125 56 49.015625 48.375 \r\nQ 55.71875 40.765625 55.71875 27.296875 \r\nQ 55.71875 13.875 49.015625 6.21875 \r\nQ 42.328125 -1.421875 30.609375 -1.421875 \r\nQ 18.84375 -1.421875 12.171875 6.21875 \r\nQ 5.515625 13.875 5.515625 27.296875 \r\nQ 5.515625 40.765625 12.171875 48.375 \r\nQ 18.84375 56 30.609375 56 \r\nz\r\n\" id=\"DejaVuSans-111\"/>\r\n    </defs>\r\n    <g transform=\"translate(152.77875 16.318125)scale(0.12 -0.12)\">\r\n     <use xlink:href=\"#DejaVuSans-110\"/>\r\n     <use x=\"63.378906\" xlink:href=\"#DejaVuSans-97\"/>\r\n     <use x=\"124.658203\" xlink:href=\"#DejaVuSans-117\"/>\r\n     <use x=\"188.037109\" xlink:href=\"#DejaVuSans-103\"/>\r\n     <use x=\"251.513672\" xlink:href=\"#DejaVuSans-104\"/>\r\n     <use x=\"314.892578\" xlink:href=\"#DejaVuSans-116\"/>\r\n     <use x=\"354.101562\" xlink:href=\"#DejaVuSans-121\"/>\r\n     <use x=\"413.28125\" xlink:href=\"#DejaVuSans-95\"/>\r\n     <use x=\"463.28125\" xlink:href=\"#DejaVuSans-99\"/>\r\n     <use x=\"518.261719\" xlink:href=\"#DejaVuSans-111\"/>\r\n     <use x=\"579.443359\" xlink:href=\"#DejaVuSans-117\"/>\r\n     <use x=\"642.822266\" xlink:href=\"#DejaVuSans-110\"/>\r\n     <use x=\"706.201172\" xlink:href=\"#DejaVuSans-116\"/>\r\n    </g>\r\n   </g>\r\n  </g>\r\n </g>\r\n <defs>\r\n  <clipPath id=\"p19803b4ad3\">\r\n   <rect height=\"217.44\" width=\"334.8\" x=\"30.103125\" y=\"22.318125\"/>\r\n  </clipPath>\r\n </defs>\r\n</svg>\r\n",
      "image/png": "[encoded data removed]"
     },
     "metadata": {
      "needs_background": "light"
     }
    }
   ],
   "source": [
    "df_naughty_count_only = pd.DataFrame(df_chat['naughty_count'], columns=['naughty_count'])\n",
    "df_naughty_count_only.hist()"
   ]
  },
  {
   "cell_type": "code",
   "execution_count": 50,
   "metadata": {},
   "outputs": [
    {
     "output_type": "execute_result",
     "data": {
      "text/plain": "   match_id  is_radiant  naughty_count  radiant_naughty_count  \\\n0         0       False              2                      0   \n1         0        True              3                      3   \n2         1       False              1                      0   \n3         1        True              0                      0   \n4         2       False              2                      0   \n\n   dire_naughty_count  \n0                   2  \n1                   0  \n2                   1  \n3                   0  \n4                   2  ",
      "text/html": "<div>\n<style scoped>\n    .dataframe tbody tr th:only-of-type {\n        vertical-align: middle;\n    }\n\n    .dataframe tbody tr th {\n        vertical-align: top;\n    }\n\n    .dataframe thead th {\n        text-align: right;\n    }\n</style>\n<table border=\"1\" class=\"dataframe\">\n  <thead>\n    <tr style=\"text-align: right;\">\n      <th></th>\n      <th>match_id</th>\n      <th>is_radiant</th>\n      <th>naughty_count</th>\n      <th>radiant_naughty_count</th>\n      <th>dire_naughty_count</th>\n    </tr>\n  </thead>\n  <tbody>\n    <tr>\n      <th>0</th>\n      <td>0</td>\n      <td>False</td>\n      <td>2</td>\n      <td>0</td>\n      <td>2</td>\n    </tr>\n    <tr>\n      <th>1</th>\n      <td>0</td>\n      <td>True</td>\n      <td>3</td>\n      <td>3</td>\n      <td>0</td>\n    </tr>\n    <tr>\n      <th>2</th>\n      <td>1</td>\n      <td>False</td>\n      <td>1</td>\n      <td>0</td>\n      <td>1</td>\n    </tr>\n    <tr>\n      <th>3</th>\n      <td>1</td>\n      <td>True</td>\n      <td>0</td>\n      <td>0</td>\n      <td>0</td>\n    </tr>\n    <tr>\n      <th>4</th>\n      <td>2</td>\n      <td>False</td>\n      <td>2</td>\n      <td>0</td>\n      <td>2</td>\n    </tr>\n  </tbody>\n</table>\n</div>"
     },
     "metadata": {},
     "execution_count": 50
    }
   ],
   "source": [
    "df_match_grouped = df_chat.groupby(['match_id', 'is_radiant'], as_index=False).naughty_count.agg('sum')\n",
    "df_match_grouped['radiant_naughty_count'] = np.where(df_match_grouped['is_radiant'] == True, df_match_grouped['naughty_count'], 0)\n",
    "df_match_grouped['dire_naughty_count'] = np.where(df_match_grouped['is_radiant'] == False, df_match_grouped['naughty_count'], 0)\n",
    "df_match_grouped.head()"
   ]
  },
  {
   "cell_type": "markdown",
   "metadata": {},
   "source": [],
   "execution_count": null,
   "outputs": []
  },
  {
   "cell_type": "code",
   "execution_count": 52,
   "metadata": {},
   "outputs": [
    {
     "output_type": "execute_result",
     "data": {
      "text/plain": "          radiant_naughty_count  dire_naughty_count\nmatch_id                                           \n0                             3                   2\n1                             0                   1\n2                             1                   2\n3                             1                   2\n4                             1                   3",
      "text/html": "<div>\n<style scoped>\n    .dataframe tbody tr th:only-of-type {\n        vertical-align: middle;\n    }\n\n    .dataframe tbody tr th {\n        vertical-align: top;\n    }\n\n    .dataframe thead th {\n        text-align: right;\n    }\n</style>\n<table border=\"1\" class=\"dataframe\">\n  <thead>\n    <tr style=\"text-align: right;\">\n      <th></th>\n      <th>radiant_naughty_count</th>\n      <th>dire_naughty_count</th>\n    </tr>\n    <tr>\n      <th>match_id</th>\n      <th></th>\n      <th></th>\n    </tr>\n  </thead>\n  <tbody>\n    <tr>\n      <th>0</th>\n      <td>3</td>\n      <td>2</td>\n    </tr>\n    <tr>\n      <th>1</th>\n      <td>0</td>\n      <td>1</td>\n    </tr>\n    <tr>\n      <th>2</th>\n      <td>1</td>\n      <td>2</td>\n    </tr>\n    <tr>\n      <th>3</th>\n      <td>1</td>\n      <td>2</td>\n    </tr>\n    <tr>\n      <th>4</th>\n      <td>1</td>\n      <td>3</td>\n    </tr>\n  </tbody>\n</table>\n</div>"
     },
     "metadata": {},
     "execution_count": 52
    }
   ],
   "source": [
    "df_match_naughty_counts = df_match_grouped.groupby(['match_id']).agg({\n",
    "    'radiant_naughty_count': 'sum',\n",
    "    'dire_naughty_count': 'sum'\n",
    "})\n",
    "\n",
    "df_match_naughty_counts.head()"
   ]
  },
  {
   "cell_type": "code",
   "execution_count": 54,
   "metadata": {},
   "outputs": [],
   "source": [
    "match_data = []\n",
    "match_file = match_file[match_file['game_mode'] == 22]\n",
    "df_players.fillna(0, inplace=True)\n",
    "\n",
    "radiant_pl = [0,1,2,3,4]\n",
    "dire_pl = [128,129,130,131,132]\n",
    "player_features = {\n",
    "    'gold': 'full_total',\n",
    "    'gold_spent': 'full_avg',\n",
    "    'kills': 'only_total',\n",
    "    'deaths': 'full_total',\n",
    "    'assists': 'full_avg',\n",
    "    'denies': 'full_avg',\n",
    "    'last_hits': 'full_avg',\n",
    "    'hero_damage': 'full_total',\n",
    "    'tower_damage': 'full_total',\n",
    "    'level': 'full_total',\n",
    "    'gold_buyback': 'full_avg'\n",
    "    }"
   ]
  },
  {
   "cell_type": "code",
   "execution_count": 56,
   "metadata": {},
   "outputs": [
    {
     "output_type": "execute_result",
     "data": {
      "text/plain": "   match_id  player_slot  gold  gold_spent  kills  deaths  assists  denies  \\\n0         0            0  3261       10960      9       3       18       1   \n1         0            1  2954       17760     13       3       18       9   \n2         0            2   110       12195      0       4       15       1   \n3         0            3  1179       22505      8       4       19       6   \n4         0            4  3307       23825     20       3       17      13   \n\n   last_hits  hero_damage  tower_damage  level  gold_buyback  \n0         30         8690           143     16           0.0  \n1        109        23747           423     22           0.0  \n2         58         4217           399     17       -1015.0  \n3        271        14832          6055     21           0.0  \n4        245        33740          1833     24       -1056.0  ",
      "text/html": "<div>\n<style scoped>\n    .dataframe tbody tr th:only-of-type {\n        vertical-align: middle;\n    }\n\n    .dataframe tbody tr th {\n        vertical-align: top;\n    }\n\n    .dataframe thead th {\n        text-align: right;\n    }\n</style>\n<table border=\"1\" class=\"dataframe\">\n  <thead>\n    <tr style=\"text-align: right;\">\n      <th></th>\n      <th>match_id</th>\n      <th>player_slot</th>\n      <th>gold</th>\n      <th>gold_spent</th>\n      <th>kills</th>\n      <th>deaths</th>\n      <th>assists</th>\n      <th>denies</th>\n      <th>last_hits</th>\n      <th>hero_damage</th>\n      <th>tower_damage</th>\n      <th>level</th>\n      <th>gold_buyback</th>\n    </tr>\n  </thead>\n  <tbody>\n    <tr>\n      <th>0</th>\n      <td>0</td>\n      <td>0</td>\n      <td>3261</td>\n      <td>10960</td>\n      <td>9</td>\n      <td>3</td>\n      <td>18</td>\n      <td>1</td>\n      <td>30</td>\n      <td>8690</td>\n      <td>143</td>\n      <td>16</td>\n      <td>0.0</td>\n    </tr>\n    <tr>\n      <th>1</th>\n      <td>0</td>\n      <td>1</td>\n      <td>2954</td>\n      <td>17760</td>\n      <td>13</td>\n      <td>3</td>\n      <td>18</td>\n      <td>9</td>\n      <td>109</td>\n      <td>23747</td>\n      <td>423</td>\n      <td>22</td>\n      <td>0.0</td>\n    </tr>\n    <tr>\n      <th>2</th>\n      <td>0</td>\n      <td>2</td>\n      <td>110</td>\n      <td>12195</td>\n      <td>0</td>\n      <td>4</td>\n      <td>15</td>\n      <td>1</td>\n      <td>58</td>\n      <td>4217</td>\n      <td>399</td>\n      <td>17</td>\n      <td>-1015.0</td>\n    </tr>\n    <tr>\n      <th>3</th>\n      <td>0</td>\n      <td>3</td>\n      <td>1179</td>\n      <td>22505</td>\n      <td>8</td>\n      <td>4</td>\n      <td>19</td>\n      <td>6</td>\n      <td>271</td>\n      <td>14832</td>\n      <td>6055</td>\n      <td>21</td>\n      <td>0.0</td>\n    </tr>\n    <tr>\n      <th>4</th>\n      <td>0</td>\n      <td>4</td>\n      <td>3307</td>\n      <td>23825</td>\n      <td>20</td>\n      <td>3</td>\n      <td>17</td>\n      <td>13</td>\n      <td>245</td>\n      <td>33740</td>\n      <td>1833</td>\n      <td>24</td>\n      <td>-1056.0</td>\n    </tr>\n  </tbody>\n</table>\n</div>"
     },
     "metadata": {},
     "execution_count": 56
    }
   ],
   "source": [
    "df = df_players[(df_players.player_slot.isin(radiant_pl)) & (df_players.match_id == 0)]\n",
    "df"
   ]
  },
  {
   "cell_type": "code",
   "execution_count": 58,
   "metadata": {},
   "outputs": [
    {
     "output_type": "execute_result",
     "data": {
      "text/plain": "2"
     },
     "metadata": {},
     "execution_count": 58
    }
   ],
   "source": [
    "tf = df_team_fights_players[df_team_fights_players.match_id == 0]\n",
    "# for i in list(range(0,int(len(tf)/10))):\n",
    "#     print(i*10,(i+1)*10)\n",
    "a = tf[0:10]\n",
    "d = sum(a[a.player_slot.isin(dire_pl)]['deaths'])\n",
    "d"
   ]
  },
  {
   "cell_type": "code",
   "execution_count": 60,
   "metadata": {},
   "outputs": [],
   "source": [
    "def teamfight_result(teamfights):\n",
    "    loss_d = 0\n",
    "    loss_r = 0\n",
    "    for i in list(range(0,int(len(tf)/10))):\n",
    "        tf_df = teamfights[i*10:(i+1)*10]\n",
    "        rd = sum(tf_df[tf_df.player_slot.isin(radiant_pl)]['deaths'])\n",
    "        dd = sum(tf_df[tf_df.player_slot.isin(dire_pl)]['deaths'])  \n",
    "        if dd < rd:\n",
    "            loss_r += 1\n",
    "        elif rd < dd:\n",
    "            loss_d += 1\n",
    "    return (loss_r, loss_d)"
   ]
  },
  {
   "cell_type": "code",
   "execution_count": 62,
   "metadata": {},
   "outputs": [],
   "source": [
    "def stat_agg(types: str, feature_name: str, data_list: str, team_data: dict):\n",
    "    if types == \"only_total\":\n",
    "        team_data[f'{feature_name}_total'] = sum(data_list)\n",
    "    elif types == \"full_total\":\n",
    "        team_data[f'{feature_name}_total'] = sum(data_list)\n",
    "        team_data[f'{feature_name}_max'] = max(data_list)\n",
    "        team_data[f'{feature_name}_min'] = min(data_list)\n",
    "        team_data[f'{feature_name}_std'] = round(np.std(data_list), 4)\n",
    "    elif types == \"full_avg\":\n",
    "        team_data[f'{feature_name}_avg'] = np.average(data_list)\n",
    "        team_data[f'{feature_name}_max'] = max(data_list)\n",
    "        team_data[f'{feature_name}_min'] = min(data_list)\n",
    "        team_data[f'{feature_name}_std'] = round(np.std(data_list), 4)\n",
    "\n",
    "    return team_data"
   ]
  },
  {
   "cell_type": "code",
   "execution_count": 63,
   "metadata": {},
   "outputs": [
    {
     "output_type": "execute_result",
     "data": {
      "text/plain": "match_id          int64\nplayer_slot       int64\ngold              int64\ngold_spent        int64\nkills             int64\ndeaths            int64\nassists           int64\ndenies            int64\nlast_hits         int64\nhero_damage       int64\ntower_damage      int64\nlevel             int64\ngold_buyback    float64\ndtype: object"
     },
     "metadata": {},
     "execution_count": 63
    }
   ],
   "source": [
    "# filter_players = df_players.player_slot.isin(radiant_pl) & df_players['match_id'] == 0\n",
    "df_players.dtypes"
   ]
  },
  {
   "cell_type": "code",
   "execution_count": 64,
   "metadata": {},
   "outputs": [],
   "source": [
    "def aggregation_data(match_id, team, team_data: dict):\n",
    "    # getting the player list\n",
    "    player_ids = radiant_pl if team == 'radiant' else dire_pl\n",
    "\n",
    "    filter_players = (df_players.player_slot.isin(player_ids)) & (df_players.match_id == match_id)\n",
    "    df_team_players = df_players[filter_players]\n",
    "    \n",
    "    for feature in player_features:\n",
    "        team_data = stat_agg(player_features[feature], feature, df_team_players[feature], team_data)\n",
    "\n",
    "    return team_data"
   ]
  },
  {
   "cell_type": "code",
   "execution_count": 65,
   "metadata": {},
   "outputs": [
    {
     "output_type": "execute_result",
     "data": {
      "text/plain": "48670"
     },
     "metadata": {},
     "execution_count": 65
    }
   ],
   "source": [
    "len(match_file)"
   ]
  },
  {
   "cell_type": "code",
   "execution_count": 67,
   "metadata": {},
   "outputs": [],
   "source": [
    "for idx, row in match_file.iterrows():\n",
    "    match_id = row['match_id']\n",
    "    duration = row['duration']\n",
    "\n",
    "    # Tower, barracks, ancient status\n",
    "    tower_radiant, tower_dire = tower_status(row['tower_status_radiant'], row['tower_status_dire'])\n",
    "    barracks_radiant, barracks_dire = barracks_status(row['barracks_status_radiant'], row['barracks_status_dire'])\n",
    "\n",
    "    # teamfights result\n",
    "    loss_radiant, loss_dire = teamfight_result(df_team_fights_players[df_team_fights_players.match_id == match_id])\n",
    "\n",
    "    # naughty word count\n",
    "    naughty_counts = None\n",
    "    try: \n",
    "        naughty_counts = df_match_naughty_counts.loc[match_id]\n",
    "    except:\n",
    "        pass\n",
    "\n",
    "    radiant_naughty_count = 0\n",
    "    dire_naughty_count = 0\n",
    "\n",
    "    radiant_naughty_count = naughty_counts['radiant_naughty_count'] if naughty_counts is not None else 0\n",
    "    dire_naughty_count = naughty_counts['radiant_naughty_count'] if naughty_counts is not None else 0\n",
    "\n",
    "    #-- radiant --#\n",
    "    # init\n",
    "    team_radiant = {'match_id': match_id, 'duration': duration}\n",
    "    # result\n",
    "    team_radiant['result'] = 1 if row['radiant_win'] else 0\n",
    "    # tower, barrack, ancient comparison data\n",
    "    team_radiant['top_towers'] = tower_radiant['top'] - tower_dire['top']\n",
    "    team_radiant['mid_towers'] = tower_radiant['mid'] - tower_dire['mid']\n",
    "    team_radiant['bottom_towers'] = tower_radiant['bottom'] - tower_dire['bottom']\n",
    "    team_radiant['ancient_status'] = tower_radiant['ancient'] - tower_dire['ancient']\n",
    "    team_radiant['top_barracks'] = barracks_radiant['top'] - barracks_dire['top']\n",
    "    team_radiant['mid_barracks'] = barracks_radiant['mid'] - barracks_dire['mid']\n",
    "    team_radiant['bottom_barracks'] = barracks_radiant['bottom'] - barracks_dire['bottom']\n",
    "    # aggregating data from players, abilities\n",
    "    team_radiant = aggregation_data(match_id, 'radiant', team_radiant)\n",
    "    # teamfight\n",
    "    team_radiant['teamfight_loss'] = loss_radiant\n",
    "    # naughty count\n",
    "    team_radiant['has_negative_chat'] = True if radiant_naughty_count > 0 else False\n",
    "\n",
    "    #-- dire --#\n",
    "    # init\n",
    "    team_dire = {'match_id': match_id, 'duration': duration}\n",
    "    # result\n",
    "    team_dire['result'] = 0 if row['radiant_win'] else 1\n",
    "    # tower, barrack, ancient comparison data\n",
    "    team_dire['top_towers'] = - tower_radiant['top'] + tower_dire['top']\n",
    "    team_dire['mid_towers'] = - tower_radiant['mid'] + tower_dire['mid']\n",
    "    team_dire['bottom_towers'] = - tower_radiant['bottom'] + tower_dire['bottom']\n",
    "    team_dire['ancient_status'] = - tower_radiant['ancient'] + tower_dire['ancient']\n",
    "    team_dire['top_barracks'] = - barracks_radiant['top'] + barracks_dire['top']\n",
    "    team_dire['mid_barracks'] = - barracks_radiant['mid'] + barracks_dire['mid']\n",
    "    team_dire['bottom_barracks'] = - barracks_radiant['bottom'] + barracks_dire['bottom']\n",
    "    # aggregating data from players, abilities\n",
    "    team_dire = aggregation_data(match_id, 'dire', team_dire)\n",
    "    # teamfight\n",
    "    team_dire['teamfight_loss'] = loss_dire\n",
    "    # naughty word count\n",
    "    team_dire['has_negative_chat'] = True if dire_naughty_count > 0 else False\n",
    "\n",
    "    match_data.append(team_radiant)\n",
    "    match_data.append(team_dire)"
   ]
  },
  {
   "cell_type": "code",
   "execution_count": 33,
   "metadata": {},
   "outputs": [
    {
     "output_type": "stream",
     "name": "stdout",
     "text": "match data count:  6\n"
    },
    {
     "output_type": "execute_result",
     "data": {
      "text/plain": "{'match_id': 0,\n 'duration': 2375,\n 'result': 1,\n 'top_towers': 1,\n 'mid_towers': 3,\n 'bottom_towers': 2,\n 'ancient_status': 2,\n 'top_barracks': 0,\n 'mid_barracks': 2,\n 'bottom_barracks': 2,\n 'gold_total': 10811,\n 'gold_max': 3307,\n 'gold_min': 110,\n 'gold_std': 1290.2002,\n 'gold_spent_avg': 17449.0,\n 'gold_spent_max': 23825,\n 'gold_spent_min': 10960,\n 'gold_spent_std': 5215.8388,\n 'kills_total': 50,\n 'deaths_total': 17,\n 'deaths_max': 4,\n 'deaths_min': 3,\n 'deaths_std': 0.4899,\n 'assists_avg': 17.4,\n 'assists_max': 19,\n 'assists_min': 15,\n 'assists_std': 1.3565,\n 'denies_avg': 6.0,\n 'denies_max': 13,\n 'denies_min': 1,\n 'denies_std': 4.6476,\n 'last_hits_avg': 142.6,\n 'last_hits_max': 271,\n 'last_hits_min': 30,\n 'last_hits_std': 97.9155,\n 'hero_damage_total': 85226,\n 'hero_damage_max': 33740,\n 'hero_damage_min': 4217,\n 'hero_damage_std': 10610.3799,\n 'tower_damage_total': 8853,\n 'tower_damage_max': 6055,\n 'tower_damage_min': 143,\n 'tower_damage_std': 2222.8977,\n 'level_total': 100,\n 'level_max': 24,\n 'level_min': 16,\n 'level_std': 3.0332,\n 'gold_buyback_avg': -414.2,\n 'gold_buyback_max': 0.0,\n 'gold_buyback_min': -1056.0,\n 'gold_buyback_std': 507.455,\n 'teamfight_loss': 1,\n 'naughty_word_count': True}"
     },
     "metadata": {},
     "execution_count": 33
    }
   ],
   "source": [
    "print('match data count: ', len(match_data))\n",
    "match_data[0]"
   ]
  },
  {
   "cell_type": "code",
   "execution_count": 68,
   "metadata": {},
   "outputs": [],
   "source": [
    "df_match_data = pd.DataFrame(match_data)\n",
    "df_match_data.to_csv('data_clean/cleaned_match_data')"
   ]
  }
 ],
 "metadata": {
  "file_extension": ".py",
  "kernelspec": {
   "display_name": "Python 3.8.2 64-bit ('infsci-2160': conda)",
   "language": "python",
   "name": "python38264bitinfsci2160conda80eebde46b8c46e39b62feb9e1b32b92"
  },
  "language_info": {
   "codemirror_mode": {
    "name": "ipython",
    "version": 3
   },
   "file_extension": ".py",
   "mimetype": "text/x-python",
   "name": "python",
   "nbconvert_exporter": "python",
   "pygments_lexer": "ipython3",
   "version": "3.8.2-final"
  },
  "mimetype": "text/x-python",
  "name": "python",
  "npconvert_exporter": "python",
  "pygments_lexer": "ipython3",
  "version": 3
 },
 "nbformat": 4,
 "nbformat_minor": 2
}