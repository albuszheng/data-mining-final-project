{
 "cells": [
  {
   "cell_type": "code",
   "execution_count": 38,
   "metadata": {},
   "outputs": [],
   "source": [
    "import pandas as pd\n",
    "import numpy as np"
   ]
  },
  {
   "cell_type": "code",
   "execution_count": 40,
   "metadata": {},
   "outputs": [
    {
     "output_type": "execute_result",
     "data": {
      "text/plain": "   match_id  start_time  duration  tower_status_radiant  tower_status_dire  \\\n0         0  1446750112      2375                  1982                  4   \n1         1  1446753078      2582                     0               1846   \n2         2  1446764586      2716                   256               1972   \n3         3  1446765723      3085                     4               1924   \n4         4  1446796385      1887                  2047                  0   \n\n   barracks_status_dire  barracks_status_radiant  first_blood_time  game_mode  \\\n0                     3                       63                 1         22   \n1                    63                        0               221         22   \n2                    63                       48               190         22   \n3                    51                        3                40         22   \n4                     0                       63                58         22   \n\n   radiant_win  negative_votes  positive_votes  cluster  \n0         True               0               1      155  \n1        False               0               2      154  \n2        False               0               0      132  \n3        False               0               0      191  \n4         True               0               0      156  ",
      "text/html": "<div>\n<style scoped>\n    .dataframe tbody tr th:only-of-type {\n        vertical-align: middle;\n    }\n\n    .dataframe tbody tr th {\n        vertical-align: top;\n    }\n\n    .dataframe thead th {\n        text-align: right;\n    }\n</style>\n<table border=\"1\" class=\"dataframe\">\n  <thead>\n    <tr style=\"text-align: right;\">\n      <th></th>\n      <th>match_id</th>\n      <th>start_time</th>\n      <th>duration</th>\n      <th>tower_status_radiant</th>\n      <th>tower_status_dire</th>\n      <th>barracks_status_dire</th>\n      <th>barracks_status_radiant</th>\n      <th>first_blood_time</th>\n      <th>game_mode</th>\n      <th>radiant_win</th>\n      <th>negative_votes</th>\n      <th>positive_votes</th>\n      <th>cluster</th>\n    </tr>\n  </thead>\n  <tbody>\n    <tr>\n      <th>0</th>\n      <td>0</td>\n      <td>1446750112</td>\n      <td>2375</td>\n      <td>1982</td>\n      <td>4</td>\n      <td>3</td>\n      <td>63</td>\n      <td>1</td>\n      <td>22</td>\n      <td>True</td>\n      <td>0</td>\n      <td>1</td>\n      <td>155</td>\n    </tr>\n    <tr>\n      <th>1</th>\n      <td>1</td>\n      <td>1446753078</td>\n      <td>2582</td>\n      <td>0</td>\n      <td>1846</td>\n      <td>63</td>\n      <td>0</td>\n      <td>221</td>\n      <td>22</td>\n      <td>False</td>\n      <td>0</td>\n      <td>2</td>\n      <td>154</td>\n    </tr>\n    <tr>\n      <th>2</th>\n      <td>2</td>\n      <td>1446764586</td>\n      <td>2716</td>\n      <td>256</td>\n      <td>1972</td>\n      <td>63</td>\n      <td>48</td>\n      <td>190</td>\n      <td>22</td>\n      <td>False</td>\n      <td>0</td>\n      <td>0</td>\n      <td>132</td>\n    </tr>\n    <tr>\n      <th>3</th>\n      <td>3</td>\n      <td>1446765723</td>\n      <td>3085</td>\n      <td>4</td>\n      <td>1924</td>\n      <td>51</td>\n      <td>3</td>\n      <td>40</td>\n      <td>22</td>\n      <td>False</td>\n      <td>0</td>\n      <td>0</td>\n      <td>191</td>\n    </tr>\n    <tr>\n      <th>4</th>\n      <td>4</td>\n      <td>1446796385</td>\n      <td>1887</td>\n      <td>2047</td>\n      <td>0</td>\n      <td>0</td>\n      <td>63</td>\n      <td>58</td>\n      <td>22</td>\n      <td>True</td>\n      <td>0</td>\n      <td>0</td>\n      <td>156</td>\n    </tr>\n  </tbody>\n</table>\n</div>"
     },
     "metadata": {},
     "execution_count": 40
    }
   ],
   "source": [
    "match_file = pd.read_csv('data_raw/match.csv')\n",
    "match_file.head()"
   ]
  },
  {
   "cell_type": "code",
   "execution_count": 42,
   "metadata": {},
   "outputs": [],
   "source": [
    "# details of bit string is in :\n",
    "# https://wiki.teamfortress.com/wiki/WebAPI/GetMatchDetails#Player_Slot\n",
    "def tower_status(ts_radiant, ts_dire):\n",
    "    tsr = {}\n",
    "    tsd = {}\n",
    "    bit_tsr = '{0:016b}'.format(ts_radiant)\n",
    "    bit_tsd = '{0:016b}'.format(ts_dire)\n",
    "    tsr['top'] = bit_tsr.count('1', -3)\n",
    "    tsd['top'] = bit_tsd.count('1', -3)\n",
    "    tsr['mid'] = bit_tsr.count('1', 10, 13)\n",
    "    tsd['mid'] = bit_tsd.count('1', 10, 13)\n",
    "    tsd['bottom'] = bit_tsd.count('1', 7, 10)\n",
    "    tsr['bottom'] = bit_tsr.count('1', 7, 10)\n",
    "    tsd['ancient'] = bit_tsd.count('1', 5, 7)\n",
    "    tsr['ancient'] = bit_tsr.count('1', 5, 7)\n",
    "    return (tsr, tsd)\n",
    "\n",
    "def barracks_status(bs_radiant, bs_dire):\n",
    "    bsr = {}\n",
    "    bsd = {}\n",
    "    bit_bsr = '{0:08b}'.format(bs_radiant)\n",
    "    bit_bsd = '{0:08b}'.format(bs_dire)\n",
    "    bsr['top'] = bit_bsr.count('1', -2)\n",
    "    bsd['top'] = bit_bsd.count('1', -2)\n",
    "    bsr['mid'] = bit_bsr.count('1', 2, 4)\n",
    "    bsd['mid'] = bit_bsd.count('1', 2, 4)\n",
    "    bsd['bottom'] = bit_bsd.count('1', 4, 6)\n",
    "    bsr['bottom'] = bit_bsr.count('1', 4, 6)\n",
    "    return (bsr, bsd)"
   ]
  },
  {
   "cell_type": "code",
   "execution_count": 44,
   "metadata": {},
   "outputs": [],
   "source": [
    "df_players = pd.read_csv(\n",
    "    'data_raw/players.csv', \n",
    "    usecols=[\n",
    "        'match_id',\n",
    "        'player_slot',\n",
    "        'gold',\n",
    "        'gold_spent',\n",
    "        'kills',\n",
    "        'deaths',\n",
    "        'assists',\n",
    "        'denies',\n",
    "        'last_hits',\n",
    "        'hero_damage',\n",
    "        'tower_damage',\n",
    "        'level',\n",
    "        'gold_buyback'\n",
    "        ])\n",
    "# df_player_time = pd.read_csv('dota-2-matches/player_time.csv')\n",
    "# df_ability = pd.read_csv('dota-2-matches/ability_upgrades.csv')\n",
    "df_team_fights = pd.read_csv('data_raw/teamfights.csv')\n",
    "df_team_fights_players = pd.read_csv('data_raw/teamfights_players.csv')\n",
    ""
   ]
  },
  {
   "cell_type": "code",
   "execution_count": null,
   "metadata": {},
   "outputs": [],
   "source": []
  },
  {
   "cell_type": "markdown",
   "metadata": {},
   "source": [
    "## Novel feature: negative chat"
   ],
   "execution_count": null,
   "outputs": []
  },
  {
   "cell_type": "markdown",
   "metadata": {},
   "source": [
    "We tried a custom known list of reliably negative words in chat as a novel feature. We count the number of occurrences of each word in the dictionary in chat per team per match."
   ],
   "execution_count": null,
   "outputs": []
  },
  {
   "cell_type": "code",
   "execution_count": 46,
   "metadata": {
    "tags": [
     "outputPrepend",
     "outputPrepend",
     "outputPrepend",
     "outputPrepend",
     "outputPrepend",
     "outputPrepend",
     "outputPrepend",
     "outputPrepend",
     "outputPrepend",
     "outputPrepend",
     "outputPrepend",
     "outputPrepend",
     "outputPrepend",
     "outputPrepend",
     "outputPrepend",
     "outputPrepend",
     "outputPrepend",
     "outputPrepend",
     "outputPrepend",
     "outputPrepend",
     "outputPrepend",
     "outputPrepend",
     "outputPrepend",
     "outputPrepend",
     "outputPrepend",
     "outputPrepend",
     "outputPrepend",
     "outputPrepend",
     "outputPrepend",
     "outputPrepend",
     "outputPrepend",
     "outputPrepend",
     "outputPrepend",
     "outputPrepend",
     "outputPrepend",
     "outputPrepend",
     "outputPrepend",
     "outputPrepend",
     "outputPrepend",
     "outputPrepend",
     "outputPrepend",
     "outputPrepend",
     "outputPrepend",
     "outputPrepend",
     "outputPrepend",
     "outputPrepend",
     "outputPrepend",
     "outputPrepend",
     "outputPrepend",
     "outputPrepend",
     "outputPrepend",
     "outputPrepend",
     "outputPrepend",
     "outputPrepend",
     "outputPrepend",
     "outputPrepend",
     "outputPrepend",
     "outputPrepend",
     "outputPrepend",
     "outputPrepend",
     "outputPrepend",
     "outputPrepend",
     "outputPrepend",
     "outputPrepend",
     "outputPrepend",
     "outputPrepend",
     "outputPrepend",
     "outputPrepend",
     "outputPrepend",
     "outputPrepend",
     "outputPrepend",
     "outputPrepend",
     "outputPrepend",
     "outputPrepend",
     "outputPrepend",
     "outputPrepend",
     "outputPrepend",
     "outputPrepend",
     "outputPrepend",
     "outputPrepend",
     "outputPrepend",
     "outputPrepend",
     "outputPrepend",
     "outputPrepend",
     "outputPrepend",
     "outputPrepend",
     "outputPrepend",
     "outputPrepend",
     "outputPrepend",
     "outputPrepend",
     "outputPrepend",
     "outputPrepend",
     "outputPrepend",
     "outputPrepend",
     "outputPrepend",
     "outputPrepend",
     "outputPrepend",
     "outputPrepend",
     "outputPrepend",
     "outputPrepend",
     "outputPrepend",
     "outputPrepend",
     "outputPrepend",
     "outputPrepend",
     "outputPrepend",
     "outputPrepend",
     "outputPrepend",
     "outputPrepend",
     "outputPrepend",
     "outputPrepend",
     "outputPrepend",
     "outputPrepend",
     "outputPrepend",
     "outputPrepend",
     "outputPrepend",
     "outputPrepend",
     "outputPrepend",
     "outputPrepend",
     "outputPrepend",
     "outputPrepend",
     "outputPrepend",
     "outputPrepend",
     "outputPrepend",
     "outputPrepend",
     "outputPrepend",
     "outputPrepend",
     "outputPrepend",
     "outputPrepend",
     "outputPrepend",
     "outputPrepend",
     "outputPrepend",
     "outputPrepend",
     "outputPrepend",
     "outputPrepend",
     "outputPrepend",
     "outputPrepend",
     "outputPrepend",
     "outputPrepend",
     "outputPrepend",
     "outputPrepend",
     "outputPrepend",
     "outputPrepend",
     "outputPrepend",
     "outputPrepend",
     "outputPrepend",
     "outputPrepend",
     "outputPrepend",
     "outputPrepend",
     "outputPrepend",
     "outputPrepend",
     "outputPrepend",
     "outputPrepend",
     "outputPrepend",
     "outputPrepend",
     "outputPrepend",
     "outputPrepend",
     "outputPrepend",
     "outputPrepend",
     "outputPrepend",
     "outputPrepend",
     "outputPrepend",
     "outputPrepend",
     "outputPrepend",
     "outputPrepend",
     "outputPrepend",
     "outputPrepend",
     "outputPrepend",
     "outputPrepend",
     "outputPrepend",
     "outputPrepend",
     "outputPrepend",
     "outputPrepend",
     "outputPrepend",
     "outputPrepend",
     "outputPrepend",
     "outputPrepend",
     "outputPrepend",
     "outputPrepend"
    ]
   },
   "outputs": [
    {
     "output_type": "execute_result",
     "data": {
      "text/plain": "   match_id            key  slot  time       unit  is_radiant  naughty_count\n0         0       force it     6    -8  6k Slayer       False              0\n1         0  space created     1     5     Monkey        True              0\n2         0            hah     1     6     Monkey        True              0\n3         0         ez 500     6     9  6k Slayer       False              1\n4         0       mvp ulti     4   934       Kira        True              0",
      "text/html": "<div>\n<style scoped>\n    .dataframe tbody tr th:only-of-type {\n        vertical-align: middle;\n    }\n\n    .dataframe tbody tr th {\n        vertical-align: top;\n    }\n\n    .dataframe thead th {\n        text-align: right;\n    }\n</style>\n<table border=\"1\" class=\"dataframe\">\n  <thead>\n    <tr style=\"text-align: right;\">\n      <th></th>\n      <th>match_id</th>\n      <th>key</th>\n      <th>slot</th>\n      <th>time</th>\n      <th>unit</th>\n      <th>is_radiant</th>\n      <th>naughty_count</th>\n    </tr>\n  </thead>\n  <tbody>\n    <tr>\n      <th>0</th>\n      <td>0</td>\n      <td>force it</td>\n      <td>6</td>\n      <td>-8</td>\n      <td>6k Slayer</td>\n      <td>False</td>\n      <td>0</td>\n    </tr>\n    <tr>\n      <th>1</th>\n      <td>0</td>\n      <td>space created</td>\n      <td>1</td>\n      <td>5</td>\n      <td>Monkey</td>\n      <td>True</td>\n      <td>0</td>\n    </tr>\n    <tr>\n      <th>2</th>\n      <td>0</td>\n      <td>hah</td>\n      <td>1</td>\n      <td>6</td>\n      <td>Monkey</td>\n      <td>True</td>\n      <td>0</td>\n    </tr>\n    <tr>\n      <th>3</th>\n      <td>0</td>\n      <td>ez 500</td>\n      <td>6</td>\n      <td>9</td>\n      <td>6k Slayer</td>\n      <td>False</td>\n      <td>1</td>\n    </tr>\n    <tr>\n      <th>4</th>\n      <td>0</td>\n      <td>mvp ulti</td>\n      <td>4</td>\n      <td>934</td>\n      <td>Kira</td>\n      <td>True</td>\n      <td>0</td>\n    </tr>\n  </tbody>\n</table>\n</div>"
     },
     "metadata": {},
     "execution_count": 46
    }
   ],
   "source": [
    "df_chat = pd.read_csv('data_raw/chat.csv')\n",
    "df_chat['key'].fillna('', inplace=True)\n",
    "\n",
    "naughty_words = [\n",
    "    'stfu',\n",
    "    'ez',\n",
    "    'fuck',\n",
    "    'wtf',\n",
    "    'blame',\n",
    "    'report',\n",
    "    'reported',\n",
    "    'shit',\n",
    "    'ass',\n",
    "    'asshole',\n",
    "    'idiot',\n",
    "    'stupid',\n",
    "    'support',\n",
    "    'blyat',\n",
    "    'noob',\n",
    "    'gg'\n",
    "]\n",
    "\n",
    "def get_naughty_count(phrase):\n",
    "    naughty_count = 0\n",
    "    tokens = phrase.split()\n",
    "    for token in tokens:\n",
    "        naughty_count = naughty_count + (1 if token in naughty_words else 0)\n",
    "    return naughty_count\n",
    "\n",
    "df_chat['is_radiant'] = df_chat['slot'] < 5\n",
    "df_chat['naughty_count'] = df_chat['key'].apply(get_naughty_count)\n",
    "df_chat.head()"
   ]
  },
  {
   "cell_type": "code",
   "execution_count": 48,
   "metadata": {},
   "outputs": [
    {
     "output_type": "execute_result",
     "data": {
      "text/plain": "count    1.439488e+06\nmean     1.467015e-01\nstd      3.670513e-01\nmin      0.000000e+00\n25%      0.000000e+00\n50%      0.000000e+00\n75%      0.000000e+00\nmax      7.000000e+00\nName: naughty_count, dtype: float64"
     },
     "metadata": {},
     "execution_count": 48
    }
   ],
   "source": [
    "df_chat['naughty_count'].describe()"
   ]
  },
  {
   "cell_type": "markdown",
   "metadata": {},
   "source": [
    "We can see that the median negative word count is 0, and the majority of games have 0 instances of negative words. Thus, later we convert it to a binary feature (present or not)."
   ],
   "execution_count": null,
   "outputs": []
  },
  {
   "cell_type": "code",
   "execution_count": null,
   "metadata": {},
   "outputs": [],
   "source": []
  },
  {
   "cell_type": "code",
   "execution_count": 50,
   "metadata": {},
   "outputs": [
    {
     "output_type": "execute_result",
     "data": {
      "text/plain": "   match_id  is_radiant  naughty_count  radiant_naughty_count  \\\n0         0       False              2                      0   \n1         0        True              3                      3   \n2         1       False              1                      0   \n3         1        True              0                      0   \n4         2       False              2                      0   \n\n   dire_naughty_count  \n0                   2  \n1                   0  \n2                   1  \n3                   0  \n4                   2  ",
      "text/html": "<div>\n<style scoped>\n    .dataframe tbody tr th:only-of-type {\n        vertical-align: middle;\n    }\n\n    .dataframe tbody tr th {\n        vertical-align: top;\n    }\n\n    .dataframe thead th {\n        text-align: right;\n    }\n</style>\n<table border=\"1\" class=\"dataframe\">\n  <thead>\n    <tr style=\"text-align: right;\">\n      <th></th>\n      <th>match_id</th>\n      <th>is_radiant</th>\n      <th>naughty_count</th>\n      <th>radiant_naughty_count</th>\n      <th>dire_naughty_count</th>\n    </tr>\n  </thead>\n  <tbody>\n    <tr>\n      <th>0</th>\n      <td>0</td>\n      <td>False</td>\n      <td>2</td>\n      <td>0</td>\n      <td>2</td>\n    </tr>\n    <tr>\n      <th>1</th>\n      <td>0</td>\n      <td>True</td>\n      <td>3</td>\n      <td>3</td>\n      <td>0</td>\n    </tr>\n    <tr>\n      <th>2</th>\n      <td>1</td>\n      <td>False</td>\n      <td>1</td>\n      <td>0</td>\n      <td>1</td>\n    </tr>\n    <tr>\n      <th>3</th>\n      <td>1</td>\n      <td>True</td>\n      <td>0</td>\n      <td>0</td>\n      <td>0</td>\n    </tr>\n    <tr>\n      <th>4</th>\n      <td>2</td>\n      <td>False</td>\n      <td>2</td>\n      <td>0</td>\n      <td>2</td>\n    </tr>\n  </tbody>\n</table>\n</div>"
     },
     "metadata": {},
     "execution_count": 50
    }
   ],
   "source": [
    "df_match_grouped = df_chat.groupby(['match_id', 'is_radiant'], as_index=False).naughty_count.agg('sum')\n",
    "df_match_grouped['radiant_naughty_count'] = np.where(df_match_grouped['is_radiant'] == True, df_match_grouped['naughty_count'], 0)\n",
    "df_match_grouped['dire_naughty_count'] = np.where(df_match_grouped['is_radiant'] == False, df_match_grouped['naughty_count'], 0)\n",
    "df_match_grouped.head()"
   ]
  },
  {
   "cell_type": "markdown",
   "metadata": {},
   "source": [],
   "execution_count": null,
   "outputs": []
  },
  {
   "cell_type": "code",
   "execution_count": 52,
   "metadata": {},
   "outputs": [
    {
     "output_type": "execute_result",
     "data": {
      "text/plain": "          radiant_naughty_count  dire_naughty_count\nmatch_id                                           \n0                             3                   2\n1                             0                   1\n2                             1                   2\n3                             1                   2\n4                             1                   3",
      "text/html": "<div>\n<style scoped>\n    .dataframe tbody tr th:only-of-type {\n        vertical-align: middle;\n    }\n\n    .dataframe tbody tr th {\n        vertical-align: top;\n    }\n\n    .dataframe thead th {\n        text-align: right;\n    }\n</style>\n<table border=\"1\" class=\"dataframe\">\n  <thead>\n    <tr style=\"text-align: right;\">\n      <th></th>\n      <th>radiant_naughty_count</th>\n      <th>dire_naughty_count</th>\n    </tr>\n    <tr>\n      <th>match_id</th>\n      <th></th>\n      <th></th>\n    </tr>\n  </thead>\n  <tbody>\n    <tr>\n      <th>0</th>\n      <td>3</td>\n      <td>2</td>\n    </tr>\n    <tr>\n      <th>1</th>\n      <td>0</td>\n      <td>1</td>\n    </tr>\n    <tr>\n      <th>2</th>\n      <td>1</td>\n      <td>2</td>\n    </tr>\n    <tr>\n      <th>3</th>\n      <td>1</td>\n      <td>2</td>\n    </tr>\n    <tr>\n      <th>4</th>\n      <td>1</td>\n      <td>3</td>\n    </tr>\n  </tbody>\n</table>\n</div>"
     },
     "metadata": {},
     "execution_count": 52
    }
   ],
   "source": [
    "df_match_naughty_counts = df_match_grouped.groupby(['match_id']).agg({\n",
    "    'radiant_naughty_count': 'sum',\n",
    "    'dire_naughty_count': 'sum'\n",
    "})\n",
    "\n",
    "df_match_naughty_counts.head()"
   ]
  },
  {
   "cell_type": "code",
   "execution_count": 54,
   "metadata": {},
   "outputs": [],
   "source": [
    "match_data = []\n",
    "match_file = match_file[match_file['game_mode'] == 22]\n",
    "df_players.fillna(0, inplace=True)\n",
    "\n",
    "radiant_pl = [0,1,2,3,4]\n",
    "dire_pl = [128,129,130,131,132]\n",
    "player_features = {\n",
    "    'gold': 'full_total',\n",
    "    'gold_spent': 'full_avg',\n",
    "    'kills': 'only_total',\n",
    "    'deaths': 'full_total',\n",
    "    'assists': 'full_avg',\n",
    "    'denies': 'full_avg',\n",
    "    'last_hits': 'full_avg',\n",
    "    'hero_damage': 'full_total',\n",
    "    'tower_damage': 'full_total',\n",
    "    'level': 'full_total',\n",
    "    'gold_buyback': 'full_avg'\n",
    "    }"
   ]
  },
  {
   "cell_type": "code",
   "execution_count": 56,
   "metadata": {},
   "outputs": [
    {
     "output_type": "execute_result",
     "data": {
      "text/plain": "   match_id  player_slot  gold  gold_spent  kills  deaths  assists  denies  \\\n0         0            0  3261       10960      9       3       18       1   \n1         0            1  2954       17760     13       3       18       9   \n2         0            2   110       12195      0       4       15       1   \n3         0            3  1179       22505      8       4       19       6   \n4         0            4  3307       23825     20       3       17      13   \n\n   last_hits  hero_damage  tower_damage  level  gold_buyback  \n0         30         8690           143     16           0.0  \n1        109        23747           423     22           0.0  \n2         58         4217           399     17       -1015.0  \n3        271        14832          6055     21           0.0  \n4        245        33740          1833     24       -1056.0  ",
      "text/html": "<div>\n<style scoped>\n    .dataframe tbody tr th:only-of-type {\n        vertical-align: middle;\n    }\n\n    .dataframe tbody tr th {\n        vertical-align: top;\n    }\n\n    .dataframe thead th {\n        text-align: right;\n    }\n</style>\n<table border=\"1\" class=\"dataframe\">\n  <thead>\n    <tr style=\"text-align: right;\">\n      <th></th>\n      <th>match_id</th>\n      <th>player_slot</th>\n      <th>gold</th>\n      <th>gold_spent</th>\n      <th>kills</th>\n      <th>deaths</th>\n      <th>assists</th>\n      <th>denies</th>\n      <th>last_hits</th>\n      <th>hero_damage</th>\n      <th>tower_damage</th>\n      <th>level</th>\n      <th>gold_buyback</th>\n    </tr>\n  </thead>\n  <tbody>\n    <tr>\n      <th>0</th>\n      <td>0</td>\n      <td>0</td>\n      <td>3261</td>\n      <td>10960</td>\n      <td>9</td>\n      <td>3</td>\n      <td>18</td>\n      <td>1</td>\n      <td>30</td>\n      <td>8690</td>\n      <td>143</td>\n      <td>16</td>\n      <td>0.0</td>\n    </tr>\n    <tr>\n      <th>1</th>\n      <td>0</td>\n      <td>1</td>\n      <td>2954</td>\n      <td>17760</td>\n      <td>13</td>\n      <td>3</td>\n      <td>18</td>\n      <td>9</td>\n      <td>109</td>\n      <td>23747</td>\n      <td>423</td>\n      <td>22</td>\n      <td>0.0</td>\n    </tr>\n    <tr>\n      <th>2</th>\n      <td>0</td>\n      <td>2</td>\n      <td>110</td>\n      <td>12195</td>\n      <td>0</td>\n      <td>4</td>\n      <td>15</td>\n      <td>1</td>\n      <td>58</td>\n      <td>4217</td>\n      <td>399</td>\n      <td>17</td>\n      <td>-1015.0</td>\n    </tr>\n    <tr>\n      <th>3</th>\n      <td>0</td>\n      <td>3</td>\n      <td>1179</td>\n      <td>22505</td>\n      <td>8</td>\n      <td>4</td>\n      <td>19</td>\n      <td>6</td>\n      <td>271</td>\n      <td>14832</td>\n      <td>6055</td>\n      <td>21</td>\n      <td>0.0</td>\n    </tr>\n    <tr>\n      <th>4</th>\n      <td>0</td>\n      <td>4</td>\n      <td>3307</td>\n      <td>23825</td>\n      <td>20</td>\n      <td>3</td>\n      <td>17</td>\n      <td>13</td>\n      <td>245</td>\n      <td>33740</td>\n      <td>1833</td>\n      <td>24</td>\n      <td>-1056.0</td>\n    </tr>\n  </tbody>\n</table>\n</div>"
     },
     "metadata": {},
     "execution_count": 56
    }
   ],
   "source": [
    "df = df_players[(df_players.player_slot.isin(radiant_pl)) & (df_players.match_id == 0)]\n",
    "df"
   ]
  },
  {
   "cell_type": "code",
   "execution_count": 58,
   "metadata": {},
   "outputs": [
    {
     "output_type": "execute_result",
     "data": {
      "text/plain": "2"
     },
     "metadata": {},
     "execution_count": 58
    }
   ],
   "source": [
    "tf = df_team_fights_players[df_team_fights_players.match_id == 0]\n",
    "# for i in list(range(0,int(len(tf)/10))):\n",
    "#     print(i*10,(i+1)*10)\n",
    "a = tf[0:10]\n",
    "d = sum(a[a.player_slot.isin(dire_pl)]['deaths'])\n",
    "d"
   ]
  },
  {
   "cell_type": "code",
   "execution_count": 60,
   "metadata": {},
   "outputs": [],
   "source": [
    "def teamfight_result(teamfights):\n",
    "    loss_d = 0\n",
    "    loss_r = 0\n",
    "    for i in list(range(0,int(len(tf)/10))):\n",
    "        tf_df = teamfights[i*10:(i+1)*10]\n",
    "        rd = sum(tf_df[tf_df.player_slot.isin(radiant_pl)]['deaths'])\n",
    "        dd = sum(tf_df[tf_df.player_slot.isin(dire_pl)]['deaths'])  \n",
    "        if dd < rd:\n",
    "            loss_r += 1\n",
    "        elif rd < dd:\n",
    "            loss_d += 1\n",
    "    return (loss_r, loss_d)"
   ]
  },
  {
   "cell_type": "code",
   "execution_count": 62,
   "metadata": {},
   "outputs": [],
   "source": [
    "def stat_agg(types: str, feature_name: str, data_list: str, team_data: dict):\n",
    "    if types == \"only_total\":\n",
    "        team_data[f'{feature_name}_total'] = sum(data_list)\n",
    "    elif types == \"full_total\":\n",
    "        team_data[f'{feature_name}_total'] = sum(data_list)\n",
    "        team_data[f'{feature_name}_max'] = max(data_list)\n",
    "        team_data[f'{feature_name}_min'] = min(data_list)\n",
    "        team_data[f'{feature_name}_std'] = round(np.std(data_list), 4)\n",
    "    elif types == \"full_avg\":\n",
    "        team_data[f'{feature_name}_avg'] = np.average(data_list)\n",
    "        team_data[f'{feature_name}_max'] = max(data_list)\n",
    "        team_data[f'{feature_name}_min'] = min(data_list)\n",
    "        team_data[f'{feature_name}_std'] = round(np.std(data_list), 4)\n",
    "\n",
    "    return team_data"
   ]
  },
  {
   "cell_type": "code",
   "execution_count": 63,
   "metadata": {},
   "outputs": [
    {
     "output_type": "execute_result",
     "data": {
      "text/plain": "match_id          int64\nplayer_slot       int64\ngold              int64\ngold_spent        int64\nkills             int64\ndeaths            int64\nassists           int64\ndenies            int64\nlast_hits         int64\nhero_damage       int64\ntower_damage      int64\nlevel             int64\ngold_buyback    float64\ndtype: object"
     },
     "metadata": {},
     "execution_count": 63
    }
   ],
   "source": [
    "# filter_players = df_players.player_slot.isin(radiant_pl) & df_players['match_id'] == 0\n",
    "df_players.dtypes"
   ]
  },
  {
   "cell_type": "code",
   "execution_count": 64,
   "metadata": {},
   "outputs": [],
   "source": [
    "def aggregation_data(match_id, team, team_data: dict):\n",
    "    # getting the player list\n",
    "    player_ids = radiant_pl if team == 'radiant' else dire_pl\n",
    "\n",
    "    filter_players = (df_players.player_slot.isin(player_ids)) & (df_players.match_id == match_id)\n",
    "    df_team_players = df_players[filter_players]\n",
    "    \n",
    "    for feature in player_features:\n",
    "        team_data = stat_agg(player_features[feature], feature, df_team_players[feature], team_data)\n",
    "\n",
    "    return team_data"
   ]
  },
  {
   "cell_type": "code",
   "execution_count": 65,
   "metadata": {},
   "outputs": [
    {
     "output_type": "execute_result",
     "data": {
      "text/plain": "48670"
     },
     "metadata": {},
     "execution_count": 65
    }
   ],
   "source": [
    "len(match_file)"
   ]
  },
  {
   "cell_type": "code",
   "execution_count": 67,
   "metadata": {},
   "outputs": [],
   "source": [
    "for idx, row in match_file.iterrows():\n",
    "    match_id = row['match_id']\n",
    "    duration = row['duration']\n",
    "\n",
    "    # Tower, barracks, ancient status\n",
    "    tower_radiant, tower_dire = tower_status(row['tower_status_radiant'], row['tower_status_dire'])\n",
    "    barracks_radiant, barracks_dire = barracks_status(row['barracks_status_radiant'], row['barracks_status_dire'])\n",
    "\n",
    "    # teamfights result\n",
    "    loss_radiant, loss_dire = teamfight_result(df_team_fights_players[df_team_fights_players.match_id == match_id])\n",
    "\n",
    "    # naughty word count\n",
    "    naughty_counts = None\n",
    "    try: \n",
    "        naughty_counts = df_match_naughty_counts.loc[match_id]\n",
    "    except:\n",
    "        pass\n",
    "\n",
    "    radiant_naughty_count = 0\n",
    "    dire_naughty_count = 0\n",
    "\n",
    "    radiant_naughty_count = naughty_counts['radiant_naughty_count'] if naughty_counts is not None else 0\n",
    "    dire_naughty_count = naughty_counts['radiant_naughty_count'] if naughty_counts is not None else 0\n",
    "\n",
    "    #-- radiant --#\n",
    "    # init\n",
    "    team_radiant = {'match_id': match_id, 'duration': duration}\n",
    "    # result\n",
    "    team_radiant['result'] = 1 if row['radiant_win'] else 0\n",
    "    # tower, barrack, ancient comparison data\n",
    "    team_radiant['top_towers'] = tower_radiant['top'] - tower_dire['top']\n",
    "    team_radiant['mid_towers'] = tower_radiant['mid'] - tower_dire['mid']\n",
    "    team_radiant['bottom_towers'] = tower_radiant['bottom'] - tower_dire['bottom']\n",
    "    team_radiant['ancient_status'] = tower_radiant['ancient'] - tower_dire['ancient']\n",
    "    team_radiant['top_barracks'] = barracks_radiant['top'] - barracks_dire['top']\n",
    "    team_radiant['mid_barracks'] = barracks_radiant['mid'] - barracks_dire['mid']\n",
    "    team_radiant['bottom_barracks'] = barracks_radiant['bottom'] - barracks_dire['bottom']\n",
    "    # aggregating data from players, abilities\n",
    "    team_radiant = aggregation_data(match_id, 'radiant', team_radiant)\n",
    "    # teamfight\n",
    "    team_radiant['teamfight_loss'] = loss_radiant\n",
    "    # naughty count\n",
    "    team_radiant['has_negative_chat'] = True if radiant_naughty_count > 0 else False\n",
    "\n",
    "    #-- dire --#\n",
    "    # init\n",
    "    team_dire = {'match_id': match_id, 'duration': duration}\n",
    "    # result\n",
    "    team_dire['result'] = 0 if row['radiant_win'] else 1\n",
    "    # tower, barrack, ancient comparison data\n",
    "    team_dire['top_towers'] = - tower_radiant['top'] + tower_dire['top']\n",
    "    team_dire['mid_towers'] = - tower_radiant['mid'] + tower_dire['mid']\n",
    "    team_dire['bottom_towers'] = - tower_radiant['bottom'] + tower_dire['bottom']\n",
    "    team_dire['ancient_status'] = - tower_radiant['ancient'] + tower_dire['ancient']\n",
    "    team_dire['top_barracks'] = - barracks_radiant['top'] + barracks_dire['top']\n",
    "    team_dire['mid_barracks'] = - barracks_radiant['mid'] + barracks_dire['mid']\n",
    "    team_dire['bottom_barracks'] = - barracks_radiant['bottom'] + barracks_dire['bottom']\n",
    "    # aggregating data from players, abilities\n",
    "    team_dire = aggregation_data(match_id, 'dire', team_dire)\n",
    "    # teamfight\n",
    "    team_dire['teamfight_loss'] = loss_dire\n",
    "    # naughty word count\n",
    "    team_dire['has_negative_chat'] = True if dire_naughty_count > 0 else False\n",
    "\n",
    "    match_data.append(team_radiant)\n",
    "    match_data.append(team_dire)"
   ]
  },
  {
   "cell_type": "code",
   "execution_count": 33,
   "metadata": {},
   "outputs": [
    {
     "output_type": "stream",
     "name": "stdout",
     "text": "match data count:  6\n"
    },
    {
     "output_type": "execute_result",
     "data": {
      "text/plain": "{'match_id': 0,\n 'duration': 2375,\n 'result': 1,\n 'top_towers': 1,\n 'mid_towers': 3,\n 'bottom_towers': 2,\n 'ancient_status': 2,\n 'top_barracks': 0,\n 'mid_barracks': 2,\n 'bottom_barracks': 2,\n 'gold_total': 10811,\n 'gold_max': 3307,\n 'gold_min': 110,\n 'gold_std': 1290.2002,\n 'gold_spent_avg': 17449.0,\n 'gold_spent_max': 23825,\n 'gold_spent_min': 10960,\n 'gold_spent_std': 5215.8388,\n 'kills_total': 50,\n 'deaths_total': 17,\n 'deaths_max': 4,\n 'deaths_min': 3,\n 'deaths_std': 0.4899,\n 'assists_avg': 17.4,\n 'assists_max': 19,\n 'assists_min': 15,\n 'assists_std': 1.3565,\n 'denies_avg': 6.0,\n 'denies_max': 13,\n 'denies_min': 1,\n 'denies_std': 4.6476,\n 'last_hits_avg': 142.6,\n 'last_hits_max': 271,\n 'last_hits_min': 30,\n 'last_hits_std': 97.9155,\n 'hero_damage_total': 85226,\n 'hero_damage_max': 33740,\n 'hero_damage_min': 4217,\n 'hero_damage_std': 10610.3799,\n 'tower_damage_total': 8853,\n 'tower_damage_max': 6055,\n 'tower_damage_min': 143,\n 'tower_damage_std': 2222.8977,\n 'level_total': 100,\n 'level_max': 24,\n 'level_min': 16,\n 'level_std': 3.0332,\n 'gold_buyback_avg': -414.2,\n 'gold_buyback_max': 0.0,\n 'gold_buyback_min': -1056.0,\n 'gold_buyback_std': 507.455,\n 'teamfight_loss': 1,\n 'naughty_word_count': True}"
     },
     "metadata": {},
     "execution_count": 33
    }
   ],
   "source": [
    "print('match data count: ', len(match_data))\n",
    "match_data[0]"
   ]
  },
  {
   "cell_type": "code",
   "execution_count": 68,
   "metadata": {},
   "outputs": [],
   "source": [
    "df_match_data = pd.DataFrame(match_data)\n",
    "df_match_data.to_csv('data_clean/cleaned_match_data')"
   ]
  }
 ],
 "metadata": {
  "file_extension": ".py",
  "kernelspec": {
   "display_name": "Python 3.8.2 64-bit ('infsci-2160': conda)",
   "language": "python",
   "name": "python38264bitinfsci2160conda80eebde46b8c46e39b62feb9e1b32b92"
  },
  "language_info": {
   "codemirror_mode": {
    "name": "ipython",
    "version": 3
   },
   "file_extension": ".py",
   "mimetype": "text/x-python",
   "name": "python",
   "nbconvert_exporter": "python",
   "pygments_lexer": "ipython3",
   "version": "3.7.6-final"
  },
  "mimetype": "text/x-python",
  "name": "python",
  "npconvert_exporter": "python",
  "pygments_lexer": "ipython3",
  "version": 3
 },
 "nbformat": 4,
 "nbformat_minor": 2
}